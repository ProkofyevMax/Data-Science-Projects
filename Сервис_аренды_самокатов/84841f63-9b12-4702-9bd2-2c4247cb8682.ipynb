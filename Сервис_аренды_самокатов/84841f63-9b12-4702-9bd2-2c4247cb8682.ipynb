{
 "cells": [
  {
   "cell_type": "markdown",
   "id": "8a14f8e2",
   "metadata": {},
   "source": [
    "# Описание сервиса"
   ]
  },
  {
   "cell_type": "markdown",
   "id": "b1023e5e",
   "metadata": {},
   "source": [
    "Сервис аренды самокатов GoFast передал данные о некоторых пользователях из нескольких городов, а также об их поездках. Чтобы совершать поездки по городу, пользователи сервиса GoFast пользуются мобильным приложением. Сервисом можно пользоваться:\n",
    "\n",
    "Без подписки:\n",
    "    \n",
    "    абонентская плата отсутствует;\n",
    "    стоимость одной минуты поездки — 8 рублей;\n",
    "    стоимость старта (начала поездки) — 50 рублей;\n",
    "\n",
    "С подпиской Ultra:\n",
    "   \n",
    "    абонентская плата — 199 рублей в месяц;\n",
    "    стоимость одной минуты поездки — 6 рублей;\n",
    "    стоимость старта — бесплатно."
   ]
  },
  {
   "cell_type": "markdown",
   "id": "60a9ed6d",
   "metadata": {},
   "source": [
    "# Цель исследования"
   ]
  },
  {
   "cell_type": "markdown",
   "id": "5f0a0d35",
   "metadata": {},
   "source": [
    "Необходимо проанализировать данные и проверить некоторые гипотезы, которые могут помочь бизнесу вырасти."
   ]
  },
  {
   "cell_type": "markdown",
   "id": "749ef8d7",
   "metadata": {},
   "source": [
    "# Особенности отрасли и данных"
   ]
  },
  {
   "cell_type": "markdown",
   "id": "8dcfb1a7",
   "metadata": {},
   "source": [
    "Анализ будет вестись по трём csv файлам: \n",
    "    \n",
    "    users_go.csv - информация о пользователях\n",
    "    rides_go.csv - информация о поездках \n",
    "    subscriptions_go.csv - информация о подписках"
   ]
  },
  {
   "cell_type": "markdown",
   "id": "5dc66678",
   "metadata": {},
   "source": [
    "# План исследования"
   ]
  },
  {
   "cell_type": "markdown",
   "id": "1bd445db",
   "metadata": {},
   "source": [
    "Шаг 1. Загрузка данных\n",
    "    \n",
    "    1. Считать CSV-файлы с данными с помощью библиотеки pandas и сохранить их в датафреймы.\n",
    "    2. Вывести первые строки каждого набора данных. Изучить общую информацию о каждом датафрейме.\n",
    "\n",
    "Шаг 2. Предобработка данных\n",
    "    \n",
    "    1. Создать новый столбец с номером месяца на основе столбца date.\n",
    "    2. Проверить наличие пропущенных значений и дубликатов в датафреймах. Обработать их, если такие значения присутствуют.\n",
    "\n",
    "Шаг 3. Исследовательский анализ данных\n",
    "    \n",
    "    Описать и визуализировать общую информацию о пользователях и поездках:\n",
    "    1. частота встречаемости городов;\n",
    "    2. соотношение пользователей с подпиской и без подписки;\n",
    "    3. возраст пользователей;\n",
    "    4. расстояние, которое пользователь преодолел за одну поездку;\n",
    "    5. продолжительность поездок.\n",
    "\n",
    "Шаг 4. Объединение данных\n",
    "    \n",
    "    1. Объединить данные о пользователях, поездках и подписках в один датафрейм. \n",
    "    2. Создать ещё два датафрейма из датафрейма, созданного на этапе 4.1.\n",
    "        c данными о пользователях без подписки;\n",
    "        с данными о пользователях с подпиской.\n",
    "    3. Визуализировать информацию о расстоянии и времени поездок для пользователей обеих категорий.\n",
    "\n",
    "Шаг 5. Подсчёт выручки\n",
    "    \n",
    "    1. Создать датафрейм с агрегированными данными о поездках на основе датафрейма с объединёнными данными из шага 4: найти   суммарное расстояние, количество поездок и суммарное время для каждого пользователя за каждый месяц.\n",
    "    2. В этот же датафрейм добавить столбец с помесячной выручкой, которую принёс каждый пользователь. \n",
    "\n",
    "Шаг 6. Проверка гипотез\n",
    "\n",
    "       Продакт-менеджеры сервиса хотят увеличить количество пользователей с подпиской. Для этого они будут проводить различные акции, но сначала нужно выяснить несколько важных моментов.\n",
    "    1. Важно понять, тратят ли пользователи с подпиской больше времени на поездки? Если да, то пользователи с подпиской могут быть «выгоднее» для компании. \n",
    "    2.  Расстояние одной поездки в 3130 метров — оптимальное с точки зрения износа самоката. Можно ли сказать, что среднее расстояние, которое проезжают пользователи с подпиской за одну поездку, не превышает 3130 метров? \n",
    "    3. Проверить гипотезу о том, будет ли помесячная выручка от пользователей с подпиской по месяцам выше, чем выручка от пользователей без подписки. Сделать вывод."
   ]
  },
  {
   "cell_type": "markdown",
   "id": "c42cbe00",
   "metadata": {},
   "source": [
    "## Загрузка данных"
   ]
  },
  {
   "cell_type": "markdown",
   "id": "25c51a80",
   "metadata": {},
   "source": [
    "### Загрузка библиотек"
   ]
  },
  {
   "cell_type": "markdown",
   "id": "f9dc8946",
   "metadata": {},
   "source": [
    "Импортируем библиотеки, которые понадобятся для работы"
   ]
  },
  {
   "cell_type": "code",
   "execution_count": 1,
   "id": "72576667",
   "metadata": {},
   "outputs": [],
   "source": [
    "import matplotlib.pyplot as plt\n",
    "import pandas as pd\n",
    "import numpy as np\n",
    "from scipy import stats as st"
   ]
  },
  {
   "cell_type": "markdown",
   "id": "29712447",
   "metadata": {},
   "source": [
    "### Загрузка таблиц и инициализация"
   ]
  },
  {
   "cell_type": "markdown",
   "id": "e55eb1ba",
   "metadata": {},
   "source": [
    "Прочитаем файлы csv и сохраним их в переменных"
   ]
  },
  {
   "cell_type": "code",
   "execution_count": 2,
   "id": "eff9f206",
   "metadata": {},
   "outputs": [],
   "source": [
    "data_users = pd.read_csv('C:/Проекты/Сервис_аренды_самокатов/users_go.csv')\n",
    "data_rides = pd.read_csv('C:/Проекты/Сервис_аренды_самокатов/rides_go.csv',\n",
    "                         parse_dates=['date'])\n",
    "data_subscriptions = pd.read_csv('C:/Проекты/Сервис_аренды_самокатов/subscriptions_go.csv')"
   ]
  },
  {
   "cell_type": "markdown",
   "id": "20e34100",
   "metadata": {},
   "source": [
    "### Первичный анализ"
   ]
  },
  {
   "cell_type": "markdown",
   "id": "a451cb37",
   "metadata": {},
   "source": [
    "Напишем функцию, которая выводит первые 10 строк и информацию о таблице, которая подаётся на вход."
   ]
  },
  {
   "cell_type": "code",
   "execution_count": 3,
   "id": "d987c220",
   "metadata": {},
   "outputs": [],
   "source": [
    "def output_information(table):\n",
    "    print(table.head(10))\n",
    "    print()\n",
    "    print()\n",
    "    table.info()"
   ]
  },
  {
   "cell_type": "markdown",
   "id": "31ca5c8b",
   "metadata": {},
   "source": [
    "#### Первичный анализ таблицы data_users"
   ]
  },
  {
   "cell_type": "markdown",
   "id": "79e073f2",
   "metadata": {},
   "source": [
    "Выведем информкцию о таблице data_users"
   ]
  },
  {
   "cell_type": "code",
   "execution_count": 4,
   "id": "ac255878",
   "metadata": {},
   "outputs": [
    {
     "name": "stdout",
     "output_type": "stream",
     "text": [
      "   user_id        name  age            city subscription_type\n",
      "0        1        Кира   22          Тюмень             ultra\n",
      "1        2   Станислав   31            Омск             ultra\n",
      "2        3     Алексей   20          Москва             ultra\n",
      "3        4  Константин   26  Ростов-на-Дону             ultra\n",
      "4        5       Адель   28            Омск             ultra\n",
      "5        6      Регина   25       Краснодар             ultra\n",
      "6        7       Игорь   23            Омск             ultra\n",
      "7        8        Юрий   23       Краснодар             ultra\n",
      "8        9          Ян   21       Пятигорск             ultra\n",
      "9       10     Валерий   18    Екатеринбург             ultra\n",
      "\n",
      "\n",
      "<class 'pandas.core.frame.DataFrame'>\n",
      "RangeIndex: 1565 entries, 0 to 1564\n",
      "Data columns (total 5 columns):\n",
      " #   Column             Non-Null Count  Dtype \n",
      "---  ------             --------------  ----- \n",
      " 0   user_id            1565 non-null   int64 \n",
      " 1   name               1565 non-null   object\n",
      " 2   age                1565 non-null   int64 \n",
      " 3   city               1565 non-null   object\n",
      " 4   subscription_type  1565 non-null   object\n",
      "dtypes: int64(2), object(3)\n",
      "memory usage: 61.3+ KB\n"
     ]
    }
   ],
   "source": [
    "output_information(data_users)"
   ]
  },
  {
   "cell_type": "markdown",
   "id": "487e5b45",
   "metadata": {},
   "source": [
    "База содержит 5 столбцов и 1565 строк. \n",
    "\n",
    "    user_id - уникальный идентификатор пользователя\n",
    "    name - имя пользователя\n",
    "    age - возраст\n",
    "    city - \tгород\n",
    "    subscription_type - тип подписки (free, ultra)\n",
    "\n",
    "Видим, что названия столбцов корректные и в исправлении не нуждаются. \n",
    "\n",
    "Тип данных корректный у всех столбцов и в исправлении не нуждается. \n",
    "\n",
    "Пропусков в таблице нет. \n",
    "\n",
    "Потребуется сделать проверку на явные дубликаты и неявные столбцов name, city, subscription_type."
   ]
  },
  {
   "cell_type": "markdown",
   "id": "6c4e8404",
   "metadata": {},
   "source": [
    "#### Первичный анализ таблицы data_rides"
   ]
  },
  {
   "cell_type": "markdown",
   "id": "bd87f952",
   "metadata": {},
   "source": [
    "Выведем информацию о таблице data_rides"
   ]
  },
  {
   "cell_type": "code",
   "execution_count": 5,
   "id": "49472c02",
   "metadata": {},
   "outputs": [
    {
     "name": "stdout",
     "output_type": "stream",
     "text": [
      "   user_id     distance   duration       date\n",
      "0        1  4409.919140  25.599769 2021-01-01\n",
      "1        1  2617.592153  15.816871 2021-01-18\n",
      "2        1   754.159807   6.232113 2021-04-20\n",
      "3        1  2694.783254  18.511000 2021-08-11\n",
      "4        1  4028.687306  26.265803 2021-08-28\n",
      "5        1  2770.890808  16.650138 2021-10-09\n",
      "6        1  3039.020292  14.927879 2021-10-19\n",
      "7        1  2842.118050  23.117468 2021-11-06\n",
      "8        1  3412.690668  15.238072 2021-11-14\n",
      "9        1   748.690645  15.041884 2021-11-22\n",
      "\n",
      "\n",
      "<class 'pandas.core.frame.DataFrame'>\n",
      "RangeIndex: 18068 entries, 0 to 18067\n",
      "Data columns (total 4 columns):\n",
      " #   Column    Non-Null Count  Dtype         \n",
      "---  ------    --------------  -----         \n",
      " 0   user_id   18068 non-null  int64         \n",
      " 1   distance  18068 non-null  float64       \n",
      " 2   duration  18068 non-null  float64       \n",
      " 3   date      18068 non-null  datetime64[ns]\n",
      "dtypes: datetime64[ns](1), float64(2), int64(1)\n",
      "memory usage: 564.8 KB\n"
     ]
    }
   ],
   "source": [
    "output_information(data_rides)"
   ]
  },
  {
   "cell_type": "markdown",
   "id": "b9351990",
   "metadata": {},
   "source": [
    "База содержит 4 столбца: \n",
    "\n",
    "    user_id - уникальный идентификатор пользователя\n",
    "    distance - расстояние, которое пользователь проехал в текущей сессии (в метрах)\n",
    "    duration - продолжительность сессии (в минутах) — время с того момента, как пользователь нажал кнопку «Начать поездку» до момента, как он нажал кнопку «Завершить поездку»\n",
    "    date - \tдата совершения поездки\n",
    "    \n",
    "Видим, что названия столбцов корректные, и в исправлении не нуждаются.\n",
    "\n",
    "Формат столбца data был изменён на подходящий при загрузке данных. Остальные столбцы в правке не нуждаются.\n",
    "\n",
    "Пропусков в таблице нет.\n",
    "\n",
    "Потребуется сделать проверку на явные дубликаты."
   ]
  },
  {
   "cell_type": "markdown",
   "id": "db40ebde",
   "metadata": {},
   "source": [
    "#### Первичный анализ таблицы data_subscriptions"
   ]
  },
  {
   "cell_type": "markdown",
   "id": "7aa79ac3",
   "metadata": {},
   "source": [
    "Выведем информцию о таблице data_subscriptions."
   ]
  },
  {
   "cell_type": "code",
   "execution_count": 6,
   "id": "efb51bfd",
   "metadata": {},
   "outputs": [
    {
     "name": "stdout",
     "output_type": "stream",
     "text": [
      "  subscription_type  minute_price  start_ride_price  subscription_fee\n",
      "0              free             8                50                 0\n",
      "1             ultra             6                 0               199\n",
      "\n",
      "\n",
      "<class 'pandas.core.frame.DataFrame'>\n",
      "RangeIndex: 2 entries, 0 to 1\n",
      "Data columns (total 4 columns):\n",
      " #   Column             Non-Null Count  Dtype \n",
      "---  ------             --------------  ----- \n",
      " 0   subscription_type  2 non-null      object\n",
      " 1   minute_price       2 non-null      int64 \n",
      " 2   start_ride_price   2 non-null      int64 \n",
      " 3   subscription_fee   2 non-null      int64 \n",
      "dtypes: int64(3), object(1)\n",
      "memory usage: 192.0+ bytes\n"
     ]
    }
   ],
   "source": [
    "output_information(data_subscriptions)"
   ]
  },
  {
   "cell_type": "markdown",
   "id": "440c6c5c",
   "metadata": {},
   "source": [
    "База содержит 4 столбца: \n",
    "\n",
    "    subscription_type - тип подписки\n",
    "    minute_price - стоимость одной минуты поездки по данной подписке\n",
    "    start_ride_price - стоимость начала поездки\n",
    "    subscription_fee - стоимость ежемесячного платежа\n",
    "    \n",
    "База содержит две строки.\n",
    "    \n",
    "Названия столбцов корректные и в исправлении не нуждаются.\n",
    "\n",
    "Тип данных столбцов корректные и в исправлении не нуждаются.\n",
    "\n",
    "Пропусков нет.\n",
    "\n",
    "Поскольку строки всего две, проверку на явные дубликаты проводить не нужно."
   ]
  },
  {
   "cell_type": "markdown",
   "id": "a3784860",
   "metadata": {},
   "source": [
    "### Вывод по разделу"
   ]
  },
  {
   "cell_type": "markdown",
   "id": "e949043b",
   "metadata": {},
   "source": [
    "Для проведения анализа были импортированы 4 библиотеки: \n",
    "    \n",
    "    matplotlib.pyplot;\n",
    "    pandas;\n",
    "    numpy;\n",
    "    scipy.\n",
    "\n",
    "Предоставленные csv файлы были были сохранены в следующие переменные:\n",
    "\n",
    "    users_go.csv как data_users; \n",
    "    rides_go.csv как data_rides;\n",
    "    subscriptions_go.csv как data_subscriptions.\n",
    "    \n",
    "    \n",
    "**Таблица data_users**    \n",
    "    \n",
    "data_users содержит 5 столбцов и 1565 строк.\n",
    "\n",
    "    user_id - уникальный идентификатор пользователя\n",
    "    name - имя пользователя\n",
    "    age - возраст\n",
    "    city - \tгород\n",
    "    subscription_type - тип подписки (free, ultra)\n",
    "\n",
    "Видим, что названия столбцов корректные и в исправлении не нуждаются.\n",
    "\n",
    "Тип данных корректный у всех столбцов и в исправлении не нуждается.\n",
    "\n",
    "Пропусков в таблице нет.\n",
    "\n",
    "Потребуется сделать проверку на явные дубликаты и неявные столбцов name, city, subscription_type.\n",
    "\n",
    "**Таблица data_rides**  \n",
    "\n",
    "data_rides содержит 4 столбца:\n",
    "\n",
    "    user_id - уникальный идентификатор пользователя\n",
    "    distance - расстояние, которое пользователь проехал в текущей сессии (в метрах)\n",
    "    duration - продолжительность сессии (в минутах) — время с того момента, как пользователь нажал кнопку «Начать поездку» до момента, как он нажал кнопку «Завершить поездку»\n",
    "    date - \tдата совершения поездки\n",
    "\n",
    "Видим, что названия столбцов корректные, и в исправлении не нуждаются.\n",
    "\n",
    "Формат столбца data был изменён на подходящий при загрузке данных. Остальные столбцы в правке не нуждаются.\n",
    "\n",
    "Пропусков в таблице нет.\n",
    "\n",
    "Потребуется сделать проверку на явные дубликаты.\n",
    "\n",
    "**Таблица data_subscriptions** \n",
    "\n",
    "data_subscriptions содержит 4 столбца:\n",
    "\n",
    "    subscription_type - тип подписки\n",
    "    minute_price - стоимость одной минуты поездки по данной подписке\n",
    "    start_ride_price - стоимость начала поездки\n",
    "    subscription_fee - стоимость ежемесячного платежа\n",
    "\n",
    "База содержит две строки.\n",
    "\n",
    "Названия столбцов корректные и в исправлении не нуждаются.\n",
    "\n",
    "Тип данных столбцов корректные и в исправлении не нуждаются.\n",
    "\n",
    "Пропусков нет.\n",
    "\n",
    "Поскольку строки всего две, проверку на явные дубликаты проводить не нужно."
   ]
  },
  {
   "cell_type": "markdown",
   "id": "e95ebca7",
   "metadata": {},
   "source": [
    "## Предобработка данных"
   ]
  },
  {
   "cell_type": "markdown",
   "id": "9c045801",
   "metadata": {},
   "source": [
    "### Добавление нового столбца"
   ]
  },
  {
   "cell_type": "markdown",
   "id": "6561d8d0",
   "metadata": {},
   "source": [
    "Добавим в датафрейм data_rides новый столбец где указан номер месяца "
   ]
  },
  {
   "cell_type": "code",
   "execution_count": 7,
   "id": "d63e82fd",
   "metadata": {},
   "outputs": [
    {
     "data": {
      "text/html": [
       "<div>\n",
       "<style scoped>\n",
       "    .dataframe tbody tr th:only-of-type {\n",
       "        vertical-align: middle;\n",
       "    }\n",
       "\n",
       "    .dataframe tbody tr th {\n",
       "        vertical-align: top;\n",
       "    }\n",
       "\n",
       "    .dataframe thead th {\n",
       "        text-align: right;\n",
       "    }\n",
       "</style>\n",
       "<table border=\"1\" class=\"dataframe\">\n",
       "  <thead>\n",
       "    <tr style=\"text-align: right;\">\n",
       "      <th></th>\n",
       "      <th>user_id</th>\n",
       "      <th>distance</th>\n",
       "      <th>duration</th>\n",
       "      <th>date</th>\n",
       "      <th>month</th>\n",
       "    </tr>\n",
       "  </thead>\n",
       "  <tbody>\n",
       "    <tr>\n",
       "      <th>0</th>\n",
       "      <td>1</td>\n",
       "      <td>4409.919140</td>\n",
       "      <td>25.599769</td>\n",
       "      <td>2021-01-01</td>\n",
       "      <td>1</td>\n",
       "    </tr>\n",
       "    <tr>\n",
       "      <th>1</th>\n",
       "      <td>1</td>\n",
       "      <td>2617.592153</td>\n",
       "      <td>15.816871</td>\n",
       "      <td>2021-01-18</td>\n",
       "      <td>1</td>\n",
       "    </tr>\n",
       "    <tr>\n",
       "      <th>2</th>\n",
       "      <td>1</td>\n",
       "      <td>754.159807</td>\n",
       "      <td>6.232113</td>\n",
       "      <td>2021-04-20</td>\n",
       "      <td>4</td>\n",
       "    </tr>\n",
       "    <tr>\n",
       "      <th>3</th>\n",
       "      <td>1</td>\n",
       "      <td>2694.783254</td>\n",
       "      <td>18.511000</td>\n",
       "      <td>2021-08-11</td>\n",
       "      <td>8</td>\n",
       "    </tr>\n",
       "    <tr>\n",
       "      <th>4</th>\n",
       "      <td>1</td>\n",
       "      <td>4028.687306</td>\n",
       "      <td>26.265803</td>\n",
       "      <td>2021-08-28</td>\n",
       "      <td>8</td>\n",
       "    </tr>\n",
       "  </tbody>\n",
       "</table>\n",
       "</div>"
      ],
      "text/plain": [
       "   user_id     distance   duration       date  month\n",
       "0        1  4409.919140  25.599769 2021-01-01      1\n",
       "1        1  2617.592153  15.816871 2021-01-18      1\n",
       "2        1   754.159807   6.232113 2021-04-20      4\n",
       "3        1  2694.783254  18.511000 2021-08-11      8\n",
       "4        1  4028.687306  26.265803 2021-08-28      8"
      ]
     },
     "execution_count": 7,
     "metadata": {},
     "output_type": "execute_result"
    }
   ],
   "source": [
    "data_rides['month'] = data_rides['date'].dt.month\n",
    "#Проверим результат\n",
    "data_rides.head()"
   ]
  },
  {
   "cell_type": "markdown",
   "id": "83bad145",
   "metadata": {},
   "source": [
    "Столбец month был успешно добавлен."
   ]
  },
  {
   "cell_type": "markdown",
   "id": "38a5cda6",
   "metadata": {},
   "source": [
    "### Проверка на явные дубликаты"
   ]
  },
  {
   "cell_type": "markdown",
   "id": "f4da607c",
   "metadata": {},
   "source": [
    "Проверим базы data_users и data_rides на наличие явных дубликатов."
   ]
  },
  {
   "cell_type": "code",
   "execution_count": 8,
   "id": "44a7c123",
   "metadata": {},
   "outputs": [
    {
     "name": "stdout",
     "output_type": "stream",
     "text": [
      "Количество явных дубликатов в таблице data_users: 31\n",
      "Количество явных дубликатов в таблице data_rides: 0\n"
     ]
    }
   ],
   "source": [
    "print(\"Количество явных дубликатов в таблице data_users:\", data_users.duplicated().sum())\n",
    "print(\"Количество явных дубликатов в таблице data_rides:\", data_rides.duplicated().sum())"
   ]
  },
  {
   "cell_type": "markdown",
   "id": "79889d7e",
   "metadata": {},
   "source": [
    "Удалим дубликаты"
   ]
  },
  {
   "cell_type": "code",
   "execution_count": 9,
   "id": "00ba9298",
   "metadata": {},
   "outputs": [
    {
     "name": "stdout",
     "output_type": "stream",
     "text": [
      "Количество явных дубликатов в таблице data_users: 0\n"
     ]
    }
   ],
   "source": [
    "data_users = data_users.drop_duplicates()\n",
    "#Проверим результат\n",
    "print(\"Количество явных дубликатов в таблице data_users:\", data_users.duplicated().sum())"
   ]
  },
  {
   "cell_type": "markdown",
   "id": "460d5a46",
   "metadata": {},
   "source": [
    "Явные дубликаты были удалены."
   ]
  },
  {
   "cell_type": "markdown",
   "id": "2fc050c8",
   "metadata": {},
   "source": [
    "### Вывод по разделу"
   ]
  },
  {
   "cell_type": "markdown",
   "id": "ef0c131e",
   "metadata": {},
   "source": [
    "В датафрейм data_rides добавлен столбец month где указан номер месяца.\n",
    "\n",
    "\n",
    "Была проверена база data_users на наличие явных дубликатов. Обнаружился 31 дубликат. Они были удалены. Явных дубликатов в датафрейме data_rides не оказалось."
   ]
  },
  {
   "cell_type": "markdown",
   "id": "212593c7",
   "metadata": {},
   "source": [
    "##  Исследовательский анализ данных"
   ]
  },
  {
   "cell_type": "markdown",
   "id": "31a2c508",
   "metadata": {},
   "source": [
    "Напишем функцию создания графиков"
   ]
  },
  {
   "cell_type": "code",
   "execution_count": 10,
   "id": "4f0e3ead",
   "metadata": {},
   "outputs": [],
   "source": [
    "# column - колонка таблицы в формате table['column_name']\n",
    "# kind - Тип графика. Пример: 'hist'\n",
    "# bins - количество корзин для гистограммы\n",
    "# title - название для графика\n",
    "# xlabel - наименование оси x\n",
    "# ylabel - наименование оси y\n",
    "\n",
    "def create_graph(column, kind, bins, title, xlabel, ylabel):\n",
    "    column.plot(kind=kind,\n",
    "                bins=bins,\n",
    "                title=title,\n",
    "                figsize = (13,8),\n",
    "                grid=True)\n",
    "    plt.xlabel(xlabel)\n",
    "    plt.ylabel(ylabel);"
   ]
  },
  {
   "cell_type": "markdown",
   "id": "0a354e8e",
   "metadata": {},
   "source": [
    "Напишем функцию вычисления агрегирующих функций (медиана, среднее, мода)"
   ]
  },
  {
   "cell_type": "code",
   "execution_count": 11,
   "id": "f6da55c4",
   "metadata": {},
   "outputs": [],
   "source": [
    "# column - столбец таблицы в формате table['column_name']\n",
    "# column_name - название столбца в формате 'column_name'\n",
    "# mode - вычислять ли моду или нет\n",
    "\n",
    "def calculate_agg_func(column, column_name, mode=False):\n",
    "    print(f'Медиана столбца {column_name}:', column.median())\n",
    "    print(f'Среднее столбца {column_name}:', column.mean())\n",
    "    if mode == True:\n",
    "        print(f'Мода столбца {column_name}:', column.mode()[0])"
   ]
  },
  {
   "cell_type": "markdown",
   "id": "4974ac08",
   "metadata": {},
   "source": [
    "### Частота встречаемости городов"
   ]
  },
  {
   "cell_type": "markdown",
   "id": "8956e3f2",
   "metadata": {},
   "source": [
    "Узнаем, сколько людей пользуется сервисом в определённых городах"
   ]
  },
  {
   "cell_type": "code",
   "execution_count": 12,
   "id": "e3a4274c",
   "metadata": {},
   "outputs": [
    {
     "data": {
      "image/png": "[encoded data removed]",
      "text/plain": [
       "<Figure size 1300x800 with 1 Axes>"
      ]
     },
     "metadata": {},
     "output_type": "display_data"
    }
   ],
   "source": [
    "agg_func_math = {'city':'count'}\n",
    "cities_table = data_users.groupby('city').agg(agg_func_math)\n",
    "cities_table = cities_table.rename(columns={'city': 'Количество'})\n",
    "cities_table.plot(kind = 'bar', \n",
    "                  title='Количество пользователей в городах',\n",
    "                  xlabel='Города', \n",
    "                  ylabel='Количество', \n",
    "                  figsize = (13,8));"
   ]
  },
  {
   "cell_type": "markdown",
   "id": "e04f0c72",
   "metadata": {},
   "source": [
    "Больше всего пользователей в Пятигорске: 219. Меньше всего - в Москве: 168."
   ]
  },
  {
   "cell_type": "markdown",
   "id": "e06ff716",
   "metadata": {},
   "source": [
    "### Соотношение пользователей с подпиской и без подписки"
   ]
  },
  {
   "cell_type": "markdown",
   "id": "fc09f3e9",
   "metadata": {},
   "source": [
    "Узнаем соотношение пользователей с подпиской и без подписки"
   ]
  },
  {
   "cell_type": "code",
   "execution_count": 13,
   "id": "ce0f4bc8",
   "metadata": {},
   "outputs": [
    {
     "data": {
      "image/png": "[encoded data removed]",
      "text/plain": [
       "<Figure size 1300x800 with 1 Axes>"
      ]
     },
     "metadata": {},
     "output_type": "display_data"
    }
   ],
   "source": [
    "agg_func_math = {'subscription_type':'count'}\n",
    "subscription_table = data_users.groupby('subscription_type').agg(agg_func_math)\n",
    "subscription_table = subscription_table.rename(columns={'subscription_type': 'Количество'})\n",
    "subscription_table.plot(y = 'Количество', \n",
    "                        kind = 'pie', \n",
    "                        title='Соотношение пользователей с подпиской и без',\n",
    "                        figsize = (13,8),\n",
    "                        autopct ='% 1.1f %%');"
   ]
  },
  {
   "cell_type": "markdown",
   "id": "cc563eba",
   "metadata": {},
   "source": [
    "Видим, что пользователей без подписки чуть больше - 54.4% против 45.6%. Присутствует небольшой дисбаланс классов."
   ]
  },
  {
   "cell_type": "markdown",
   "id": "8a09a39e",
   "metadata": {},
   "source": [
    "### Возраст пользователей"
   ]
  },
  {
   "cell_type": "markdown",
   "id": "95e48413",
   "metadata": {},
   "source": [
    "Узнаем насколько часто встречаются люди определённого возраста"
   ]
  },
  {
   "cell_type": "code",
   "execution_count": 14,
   "id": "d889fe86",
   "metadata": {},
   "outputs": [
    {
     "data": {
      "image/png": "[encoded data removed]",
      "text/plain": [
       "<Figure size 1300x800 with 1 Axes>"
      ]
     },
     "metadata": {},
     "output_type": "display_data"
    }
   ],
   "source": [
    "create_graph(data_users['age'], 'hist', 32, 'Количество пользователей определённых возрастов', 'Возраст', 'Частота')"
   ]
  },
  {
   "cell_type": "code",
   "execution_count": 15,
   "id": "10deab6f",
   "metadata": {},
   "outputs": [
    {
     "name": "stdout",
     "output_type": "stream",
     "text": [
      "Медиана столбца age: 25.0\n",
      "Среднее столбца age: 24.903520208604956\n",
      "Мода столбца age: 25\n"
     ]
    }
   ],
   "source": [
    "calculate_agg_func(data_users['age'], 'age', True)"
   ]
  },
  {
   "cell_type": "markdown",
   "id": "1105f627",
   "metadata": {},
   "source": [
    "Гистограмма имеет вид нормального распределения. Больше всего людей возраста 25-и лет. Каких либо отклонений не заметно."
   ]
  },
  {
   "cell_type": "markdown",
   "id": "fe8b4865",
   "metadata": {},
   "source": [
    "### Расстояние, которое пользователь преодолел за одну поездку"
   ]
  },
  {
   "cell_type": "markdown",
   "id": "4d7d632a",
   "metadata": {},
   "source": [
    "Узнаем расстояния, которые преодолевают пользователи за одну поездку"
   ]
  },
  {
   "cell_type": "code",
   "execution_count": 16,
   "id": "8f8be1aa",
   "metadata": {},
   "outputs": [
    {
     "data": {
      "image/png": "[encoded data removed]",
      "text/plain": [
       "<Figure size 1300x800 with 1 Axes>"
      ]
     },
     "metadata": {},
     "output_type": "display_data"
    }
   ],
   "source": [
    "create_graph(data_rides['distance'], 'hist', 100, 'Расстояние за одну поездку', 'Расстояние', 'Частота')"
   ]
  },
  {
   "cell_type": "code",
   "execution_count": 17,
   "id": "3f6fd14e",
   "metadata": {},
   "outputs": [
    {
     "name": "stdout",
     "output_type": "stream",
     "text": [
      "Медиана столбца distance: 3133.6099936787664\n",
      "Среднее столбца distance: 3070.6599756818814\n"
     ]
    }
   ],
   "source": [
    "calculate_agg_func(data_rides['distance'], 'distance')"
   ]
  },
  {
   "cell_type": "markdown",
   "id": "5cffa25a",
   "metadata": {},
   "source": [
    "График имеет вид нормального распределения с небольшим \"холмом\" в диапазоне от 0 до 1500. Видим, что чаще всего пользователи преодолевают расстояние около 3070- 3133. В дальнейшеем анализе разделим пользователей на тех, у кого есть подписка и на тех, у кого её нет. Так мы увидим, насколько сильно отличаются гистограммы для разных групп пользователей."
   ]
  },
  {
   "cell_type": "markdown",
   "id": "9bff838e",
   "metadata": {},
   "source": [
    "### Продолжительность поездок"
   ]
  },
  {
   "cell_type": "markdown",
   "id": "345335d2",
   "metadata": {},
   "source": [
    "Узнаем самую частую продолжительность поездок"
   ]
  },
  {
   "cell_type": "code",
   "execution_count": 18,
   "id": "db136c35",
   "metadata": {},
   "outputs": [
    {
     "data": {
      "image/png": "[encoded data removed]",
      "text/plain": [
       "<Figure size 1300x800 with 1 Axes>"
      ]
     },
     "metadata": {},
     "output_type": "display_data"
    }
   ],
   "source": [
    "create_graph(data_rides['duration'], 'hist', 40, 'Гистограмма времени за одну поездку', 'Время', 'Частота')"
   ]
  },
  {
   "cell_type": "code",
   "execution_count": 19,
   "id": "14ba25ed",
   "metadata": {},
   "outputs": [
    {
     "name": "stdout",
     "output_type": "stream",
     "text": [
      "Медиана столбца duration: 17.678394530393803\n",
      "Среднее столбца duration: 17.80501119798444\n"
     ]
    }
   ],
   "source": [
    "calculate_agg_func(data_rides['duration'], 'duration')"
   ]
  },
  {
   "cell_type": "markdown",
   "id": "5f4c85fa",
   "metadata": {},
   "source": [
    "Гистограмма имеет вид нормального распределения с необольшим вспеском значеник около 1."
   ]
  },
  {
   "cell_type": "markdown",
   "id": "c71ccd9c",
   "metadata": {},
   "source": [
    "Чаще всего пользователи тратят на поездку около 17 минут. В дальнейшеем анализе разделим пользователей на тех, у кого есть подписка и на тех, у кого её нет. Так мы увидим, насколько сильно отличаются гистограммы для разных групп пользователей."
   ]
  },
  {
   "cell_type": "markdown",
   "id": "56682177",
   "metadata": {},
   "source": [
    "### Вывод по разделу"
   ]
  },
  {
   "cell_type": "markdown",
   "id": "4c652be5",
   "metadata": {},
   "source": [
    "Было исследовано, сколько людей пользуется сервисом в определённых городах. Больше всего пользователей в Пятигорске: 219. Меньше всего - в Москве: 168.\n",
    "\n",
    "Было исследовано соотношение пользователей с подпиской и без подписки. Пользователей без подписки чуть больше - 54.4% против 45.6%. Присутствует небольшой дисбаланс классов.\n",
    "\n",
    "С помощью гистограммы было исследовано насколько часто встречаются люди определённого возраста. Больше всего людей возраста 25-и лет. Гистограмма имеет вид нормального распределения. Каких либо отклонений не заметно.\n",
    "\n",
    "С помощью гистограммы было исследовано расстояние, которые преодолевают пользователи за одну поездку. График имеет вид нормального распределения с небольшим \"холмом\" в диапазоне от 0 до 1500. Чаще всего пользователи преодолевают расстояние около 3000 метров. В дальнейшеем анализе разделим пользователей на тех, у кого есть подписка и на тех, у кого её нет. Так мы увидим, насколько сильно отличаются гистограммы для разных групп пользователей\n",
    "\n",
    "С помощью гистограммы было исследована самая частая продолжительность поездок. Гистограмма имеет вид нормального распределения с необольшим вспеском значеник около 1. Чаще всего пользователи тратят на поездку около 17 минут. В дальнейшеем анализе разделим пользователей на тех, у кого есть подписка и на тех, у кого её нет. Так мы увидим, насколько сильно отличаются гистограммы для разных групп пользователей."
   ]
  },
  {
   "cell_type": "markdown",
   "id": "4ef51331",
   "metadata": {},
   "source": [
    "## Объединение данных"
   ]
  },
  {
   "cell_type": "markdown",
   "id": "34bb889b",
   "metadata": {},
   "source": [
    "### Объединение данных в единый датафрейм"
   ]
  },
  {
   "cell_type": "markdown",
   "id": "49c45c99",
   "metadata": {},
   "source": [
    "Объеденим таблицы data_users и data_rides и сохраним в переменную data_final"
   ]
  },
  {
   "cell_type": "code",
   "execution_count": 20,
   "id": "70d4dd76",
   "metadata": {},
   "outputs": [],
   "source": [
    "data_final = data_users.merge(data_rides, on='user_id', how='left')"
   ]
  },
  {
   "cell_type": "markdown",
   "id": "a4445c5b",
   "metadata": {},
   "source": [
    "Присоеденим к новой таблице датафрейм data_subscriptions"
   ]
  },
  {
   "cell_type": "code",
   "execution_count": 21,
   "id": "0af9a907",
   "metadata": {},
   "outputs": [],
   "source": [
    "data_final = data_final.merge(data_subscriptions, on='subscription_type', how='left')"
   ]
  },
  {
   "cell_type": "markdown",
   "id": "3cf18933",
   "metadata": {},
   "source": [
    "Округлим расстояние поездок"
   ]
  },
  {
   "cell_type": "code",
   "execution_count": 22,
   "id": "0afda642",
   "metadata": {},
   "outputs": [],
   "source": [
    "data_final['duration'] = np.ceil(data_final['duration']).astype('int')"
   ]
  },
  {
   "cell_type": "markdown",
   "id": "9cc0c870",
   "metadata": {},
   "source": [
    "Проверим результат"
   ]
  },
  {
   "cell_type": "code",
   "execution_count": 23,
   "id": "6bf288b5",
   "metadata": {},
   "outputs": [
    {
     "data": {
      "text/html": [
       "<div>\n",
       "<style scoped>\n",
       "    .dataframe tbody tr th:only-of-type {\n",
       "        vertical-align: middle;\n",
       "    }\n",
       "\n",
       "    .dataframe tbody tr th {\n",
       "        vertical-align: top;\n",
       "    }\n",
       "\n",
       "    .dataframe thead th {\n",
       "        text-align: right;\n",
       "    }\n",
       "</style>\n",
       "<table border=\"1\" class=\"dataframe\">\n",
       "  <thead>\n",
       "    <tr style=\"text-align: right;\">\n",
       "      <th></th>\n",
       "      <th>user_id</th>\n",
       "      <th>name</th>\n",
       "      <th>age</th>\n",
       "      <th>city</th>\n",
       "      <th>subscription_type</th>\n",
       "      <th>distance</th>\n",
       "      <th>duration</th>\n",
       "      <th>date</th>\n",
       "      <th>month</th>\n",
       "      <th>minute_price</th>\n",
       "      <th>start_ride_price</th>\n",
       "      <th>subscription_fee</th>\n",
       "    </tr>\n",
       "  </thead>\n",
       "  <tbody>\n",
       "    <tr>\n",
       "      <th>0</th>\n",
       "      <td>1</td>\n",
       "      <td>Кира</td>\n",
       "      <td>22</td>\n",
       "      <td>Тюмень</td>\n",
       "      <td>ultra</td>\n",
       "      <td>4409.919140</td>\n",
       "      <td>26</td>\n",
       "      <td>2021-01-01</td>\n",
       "      <td>1</td>\n",
       "      <td>6</td>\n",
       "      <td>0</td>\n",
       "      <td>199</td>\n",
       "    </tr>\n",
       "    <tr>\n",
       "      <th>1</th>\n",
       "      <td>1</td>\n",
       "      <td>Кира</td>\n",
       "      <td>22</td>\n",
       "      <td>Тюмень</td>\n",
       "      <td>ultra</td>\n",
       "      <td>2617.592153</td>\n",
       "      <td>16</td>\n",
       "      <td>2021-01-18</td>\n",
       "      <td>1</td>\n",
       "      <td>6</td>\n",
       "      <td>0</td>\n",
       "      <td>199</td>\n",
       "    </tr>\n",
       "    <tr>\n",
       "      <th>2</th>\n",
       "      <td>1</td>\n",
       "      <td>Кира</td>\n",
       "      <td>22</td>\n",
       "      <td>Тюмень</td>\n",
       "      <td>ultra</td>\n",
       "      <td>754.159807</td>\n",
       "      <td>7</td>\n",
       "      <td>2021-04-20</td>\n",
       "      <td>4</td>\n",
       "      <td>6</td>\n",
       "      <td>0</td>\n",
       "      <td>199</td>\n",
       "    </tr>\n",
       "    <tr>\n",
       "      <th>3</th>\n",
       "      <td>1</td>\n",
       "      <td>Кира</td>\n",
       "      <td>22</td>\n",
       "      <td>Тюмень</td>\n",
       "      <td>ultra</td>\n",
       "      <td>2694.783254</td>\n",
       "      <td>19</td>\n",
       "      <td>2021-08-11</td>\n",
       "      <td>8</td>\n",
       "      <td>6</td>\n",
       "      <td>0</td>\n",
       "      <td>199</td>\n",
       "    </tr>\n",
       "    <tr>\n",
       "      <th>4</th>\n",
       "      <td>1</td>\n",
       "      <td>Кира</td>\n",
       "      <td>22</td>\n",
       "      <td>Тюмень</td>\n",
       "      <td>ultra</td>\n",
       "      <td>4028.687306</td>\n",
       "      <td>27</td>\n",
       "      <td>2021-08-28</td>\n",
       "      <td>8</td>\n",
       "      <td>6</td>\n",
       "      <td>0</td>\n",
       "      <td>199</td>\n",
       "    </tr>\n",
       "    <tr>\n",
       "      <th>...</th>\n",
       "      <td>...</td>\n",
       "      <td>...</td>\n",
       "      <td>...</td>\n",
       "      <td>...</td>\n",
       "      <td>...</td>\n",
       "      <td>...</td>\n",
       "      <td>...</td>\n",
       "      <td>...</td>\n",
       "      <td>...</td>\n",
       "      <td>...</td>\n",
       "      <td>...</td>\n",
       "      <td>...</td>\n",
       "    </tr>\n",
       "    <tr>\n",
       "      <th>18063</th>\n",
       "      <td>1534</td>\n",
       "      <td>Альберт</td>\n",
       "      <td>25</td>\n",
       "      <td>Краснодар</td>\n",
       "      <td>free</td>\n",
       "      <td>3781.098080</td>\n",
       "      <td>20</td>\n",
       "      <td>2021-11-04</td>\n",
       "      <td>11</td>\n",
       "      <td>8</td>\n",
       "      <td>50</td>\n",
       "      <td>0</td>\n",
       "    </tr>\n",
       "    <tr>\n",
       "      <th>18064</th>\n",
       "      <td>1534</td>\n",
       "      <td>Альберт</td>\n",
       "      <td>25</td>\n",
       "      <td>Краснодар</td>\n",
       "      <td>free</td>\n",
       "      <td>2840.423057</td>\n",
       "      <td>22</td>\n",
       "      <td>2021-11-16</td>\n",
       "      <td>11</td>\n",
       "      <td>8</td>\n",
       "      <td>50</td>\n",
       "      <td>0</td>\n",
       "    </tr>\n",
       "    <tr>\n",
       "      <th>18065</th>\n",
       "      <td>1534</td>\n",
       "      <td>Альберт</td>\n",
       "      <td>25</td>\n",
       "      <td>Краснодар</td>\n",
       "      <td>free</td>\n",
       "      <td>3826.185507</td>\n",
       "      <td>19</td>\n",
       "      <td>2021-11-18</td>\n",
       "      <td>11</td>\n",
       "      <td>8</td>\n",
       "      <td>50</td>\n",
       "      <td>0</td>\n",
       "    </tr>\n",
       "    <tr>\n",
       "      <th>18066</th>\n",
       "      <td>1534</td>\n",
       "      <td>Альберт</td>\n",
       "      <td>25</td>\n",
       "      <td>Краснодар</td>\n",
       "      <td>free</td>\n",
       "      <td>2902.308661</td>\n",
       "      <td>17</td>\n",
       "      <td>2021-11-27</td>\n",
       "      <td>11</td>\n",
       "      <td>8</td>\n",
       "      <td>50</td>\n",
       "      <td>0</td>\n",
       "    </tr>\n",
       "    <tr>\n",
       "      <th>18067</th>\n",
       "      <td>1534</td>\n",
       "      <td>Альберт</td>\n",
       "      <td>25</td>\n",
       "      <td>Краснодар</td>\n",
       "      <td>free</td>\n",
       "      <td>2371.711192</td>\n",
       "      <td>16</td>\n",
       "      <td>2021-12-29</td>\n",
       "      <td>12</td>\n",
       "      <td>8</td>\n",
       "      <td>50</td>\n",
       "      <td>0</td>\n",
       "    </tr>\n",
       "  </tbody>\n",
       "</table>\n",
       "<p>18068 rows × 12 columns</p>\n",
       "</div>"
      ],
      "text/plain": [
       "       user_id     name  age       city subscription_type     distance  \\\n",
       "0            1     Кира   22     Тюмень             ultra  4409.919140   \n",
       "1            1     Кира   22     Тюмень             ultra  2617.592153   \n",
       "2            1     Кира   22     Тюмень             ultra   754.159807   \n",
       "3            1     Кира   22     Тюмень             ultra  2694.783254   \n",
       "4            1     Кира   22     Тюмень             ultra  4028.687306   \n",
       "...        ...      ...  ...        ...               ...          ...   \n",
       "18063     1534  Альберт   25  Краснодар              free  3781.098080   \n",
       "18064     1534  Альберт   25  Краснодар              free  2840.423057   \n",
       "18065     1534  Альберт   25  Краснодар              free  3826.185507   \n",
       "18066     1534  Альберт   25  Краснодар              free  2902.308661   \n",
       "18067     1534  Альберт   25  Краснодар              free  2371.711192   \n",
       "\n",
       "       duration       date  month  minute_price  start_ride_price  \\\n",
       "0            26 2021-01-01      1             6                 0   \n",
       "1            16 2021-01-18      1             6                 0   \n",
       "2             7 2021-04-20      4             6                 0   \n",
       "3            19 2021-08-11      8             6                 0   \n",
       "4            27 2021-08-28      8             6                 0   \n",
       "...         ...        ...    ...           ...               ...   \n",
       "18063        20 2021-11-04     11             8                50   \n",
       "18064        22 2021-11-16     11             8                50   \n",
       "18065        19 2021-11-18     11             8                50   \n",
       "18066        17 2021-11-27     11             8                50   \n",
       "18067        16 2021-12-29     12             8                50   \n",
       "\n",
       "       subscription_fee  \n",
       "0                   199  \n",
       "1                   199  \n",
       "2                   199  \n",
       "3                   199  \n",
       "4                   199  \n",
       "...                 ...  \n",
       "18063                 0  \n",
       "18064                 0  \n",
       "18065                 0  \n",
       "18066                 0  \n",
       "18067                 0  \n",
       "\n",
       "[18068 rows x 12 columns]"
      ]
     },
     "execution_count": 23,
     "metadata": {},
     "output_type": "execute_result"
    }
   ],
   "source": [
    "data_final"
   ]
  },
  {
   "cell_type": "markdown",
   "id": "54097bb9",
   "metadata": {},
   "source": [
    "### Создание новых датафреймов"
   ]
  },
  {
   "cell_type": "markdown",
   "id": "f125f908",
   "metadata": {},
   "source": [
    "Создадим датафрейм с данными о пользователях без подписки"
   ]
  },
  {
   "cell_type": "code",
   "execution_count": 24,
   "id": "e5050c78",
   "metadata": {},
   "outputs": [
    {
     "name": "stdout",
     "output_type": "stream",
     "text": [
      "Уникальные значения столбца subscription_type: ['free']\n",
      "Размерность таблицы: (11568, 12)\n"
     ]
    }
   ],
   "source": [
    "data_users_without_subscription = data_final[data_final['subscription_type'] == 'free']\n",
    "#Проверим результат\n",
    "print('Уникальные значения столбца subscription_type:', data_users_without_subscription['subscription_type'].unique())\n",
    "print('Размерность таблицы:', data_users_without_subscription.shape)"
   ]
  },
  {
   "cell_type": "markdown",
   "id": "31a1ba45",
   "metadata": {},
   "source": [
    "Создадим датафрейм с данными о пользователях с подпиской"
   ]
  },
  {
   "cell_type": "code",
   "execution_count": 25,
   "id": "9dc49d09",
   "metadata": {},
   "outputs": [
    {
     "name": "stdout",
     "output_type": "stream",
     "text": [
      "Уникальные значения столбца subscription_type: ['ultra']\n",
      "Размерность таблицы: (6500, 12)\n"
     ]
    }
   ],
   "source": [
    "data_users_with_subscription = data_final[data_final['subscription_type'] == 'ultra']\n",
    "#Проверим результат\n",
    "print('Уникальные значения столбца subscription_type:', data_users_with_subscription['subscription_type'].unique())\n",
    "print('Размерность таблицы:', data_users_with_subscription.shape)"
   ]
  },
  {
   "cell_type": "markdown",
   "id": "795be764",
   "metadata": {},
   "source": [
    "### Вывод по разделу"
   ]
  },
  {
   "cell_type": "markdown",
   "id": "6b6be2fa",
   "metadata": {},
   "source": [
    "Три таблицы были объеденены в один. Расстояние поездок было округлено до целого. \n",
    "\n",
    "Были созданы новые датафреймы: Первый - содержит данные только о пользователях без подписки, второй - с подпиской."
   ]
  },
  {
   "cell_type": "markdown",
   "id": "98588aa8",
   "metadata": {},
   "source": [
    "## Визуализация информации по новым датафреймам"
   ]
  },
  {
   "cell_type": "markdown",
   "id": "62bc4c38",
   "metadata": {},
   "source": [
    "Создадим функцию, которая будет строить две гистограммы на одном графике."
   ]
  },
  {
   "cell_type": "code",
   "execution_count": 26,
   "id": "7f308a29",
   "metadata": {},
   "outputs": [],
   "source": [
    "def create_both_hist(y, bins_1, bins_2, title, xlabel):\n",
    "    ax = data_users_without_subscription.plot(\n",
    "        kind='hist',\n",
    "        y=y,\n",
    "        histtype='step',\n",
    "        bins=bins_1,\n",
    "        linewidth=5,\n",
    "        alpha=0.7,\n",
    "        label='Без подписки')\n",
    "    \n",
    "    data_users_with_subscription.plot(\n",
    "        kind='hist',\n",
    "        y=y,\n",
    "        histtype='step',\n",
    "        bins=bins_2,\n",
    "        linewidth=5,\n",
    "        alpha=0.7,\n",
    "        label='С подпиской',\n",
    "        ax=ax,\n",
    "        grid=True,\n",
    "        legend=True,\n",
    "        figsize = (13,8),\n",
    "        title=title)\n",
    "    \n",
    "    plt.xlabel(xlabel)\n",
    "    plt.ylabel('Частота')\n",
    "    plt.show()"
   ]
  },
  {
   "cell_type": "markdown",
   "id": "cb664e92",
   "metadata": {},
   "source": [
    "### Пройденное расстояние у пользователей без подписки"
   ]
  },
  {
   "cell_type": "markdown",
   "id": "d76cc4d3",
   "metadata": {},
   "source": [
    "Построим гистограмму по пройденному расстоянию у пользователей без подписки"
   ]
  },
  {
   "cell_type": "code",
   "execution_count": 27,
   "id": "be60402d",
   "metadata": {},
   "outputs": [
    {
     "data": {
      "image/png": "[encoded data removed]",
      "text/plain": [
       "<Figure size 1300x800 with 1 Axes>"
      ]
     },
     "metadata": {},
     "output_type": "display_data"
    }
   ],
   "source": [
    "create_graph(data_users_without_subscription['distance'], 'hist', 100, 'Расстояние поездки пользователей без подписки', 'Расстояние', 'Частота')"
   ]
  },
  {
   "cell_type": "code",
   "execution_count": 28,
   "id": "a9c3ff1f",
   "metadata": {},
   "outputs": [
    {
     "name": "stdout",
     "output_type": "stream",
     "text": [
      "Медиана столбца distance: 3114.648464847295\n",
      "Среднее столбца distance: 3045.495281671816\n"
     ]
    }
   ],
   "source": [
    "print('Медиана столбца distance:', data_users_without_subscription['distance'].median())\n",
    "print('Среднее столбца distance:', data_users_without_subscription['distance'].mean())"
   ]
  },
  {
   "cell_type": "markdown",
   "id": "fbf0a53c",
   "metadata": {},
   "source": [
    "На гистограмме видим график нормального распределения с небольшим \"холмом\" от 0 до 1500. Чаще всего пользователи преодолевают 2500 - 3500 метров."
   ]
  },
  {
   "cell_type": "markdown",
   "id": "8be29a12",
   "metadata": {},
   "source": [
    "### Пройденное расстояние у пользователей с подпиской"
   ]
  },
  {
   "cell_type": "markdown",
   "id": "bebe79d4",
   "metadata": {},
   "source": [
    "Построим гистограмму по пройденному расстоянию у пользователей с подпиской"
   ]
  },
  {
   "cell_type": "code",
   "execution_count": 29,
   "id": "5cb62ea9",
   "metadata": {},
   "outputs": [
    {
     "data": {
      "image/png": "[encoded data removed]",
      "text/plain": [
       "<Figure size 1300x800 with 1 Axes>"
      ]
     },
     "metadata": {},
     "output_type": "display_data"
    }
   ],
   "source": [
    "create_graph(data_users_with_subscription['distance'], 'hist', 100, 'Расстояние поездки пользователей с подпиской', 'Расстояние', 'Частота')"
   ]
  },
  {
   "cell_type": "code",
   "execution_count": 30,
   "id": "81a3f18d",
   "metadata": {},
   "outputs": [
    {
     "name": "stdout",
     "output_type": "stream",
     "text": [
      "Медиана столбца distance: 3148.6372291760854\n",
      "Среднее столбца distance: 3115.4453880370247\n"
     ]
    }
   ],
   "source": [
    "print('Медиана столбца distance:', data_users_with_subscription['distance'].median())\n",
    "print('Среднее столбца distance:', data_users_with_subscription['distance'].mean())"
   ]
  },
  {
   "cell_type": "markdown",
   "id": "86860d40",
   "metadata": {},
   "source": [
    "На гистограмме видим график нормального распределения с небольшим \"холмом\" от 250 до 1500. Чаще всего пользователи преодолевают расстояние около 3000 метров."
   ]
  },
  {
   "cell_type": "markdown",
   "id": "023a5fbe",
   "metadata": {},
   "source": [
    "### Сравнение двух гистограмм расстояния"
   ]
  },
  {
   "cell_type": "markdown",
   "id": "878e7b09",
   "metadata": {},
   "source": [
    "Построим обе гистограммы на одном графике"
   ]
  },
  {
   "cell_type": "code",
   "execution_count": 31,
   "id": "5b0d377e",
   "metadata": {},
   "outputs": [
    {
     "data": {
      "image/png": "[encoded data removed]",
      "text/plain": [
       "<Figure size 1300x800 with 1 Axes>"
      ]
     },
     "metadata": {},
     "output_type": "display_data"
    }
   ],
   "source": [
    "create_both_hist('distance', 100, 100, 'Гистограммы пройденного расстояния пользователей с подпиской и без', 'Расстояние')"
   ]
  },
  {
   "cell_type": "markdown",
   "id": "352c7f55",
   "metadata": {},
   "source": [
    "Стоит учитывать, что количество поездок у пользователей без подписки почти в два раза больше, чем у тех, у кого она есть. Видим, что пользователи без подписки покрывают больший диапазон значений в районе пика гистограммы, так и у \"холма\", который находится в диапазоне от 250 до 1000."
   ]
  },
  {
   "cell_type": "markdown",
   "id": "95f39c18",
   "metadata": {},
   "source": [
    "### Время поездок у пользователей без подписки"
   ]
  },
  {
   "cell_type": "markdown",
   "id": "6a9d5b74",
   "metadata": {},
   "source": [
    "Построим гистограмму по времени поездок у пользователей без подписки"
   ]
  },
  {
   "cell_type": "code",
   "execution_count": 32,
   "id": "d21847fb",
   "metadata": {},
   "outputs": [
    {
     "data": {
      "image/png": "[encoded data removed]",
      "text/plain": [
       "<Figure size 1300x800 with 1 Axes>"
      ]
     },
     "metadata": {},
     "output_type": "display_data"
    }
   ],
   "source": [
    "create_graph(data_users_without_subscription['duration'], 'hist', 35, 'Время поездки пользователей без подписки', 'Время', 'Частота')"
   ]
  },
  {
   "cell_type": "code",
   "execution_count": 33,
   "id": "b78d4239",
   "metadata": {},
   "outputs": [
    {
     "name": "stdout",
     "output_type": "stream",
     "text": [
      "Медиана столбца duration: 18.0\n",
      "Среднее столбца duration: 17.890992392807746\n",
      "Мода столбца duration: 18\n"
     ]
    }
   ],
   "source": [
    "print('Медиана столбца duration:', data_users_without_subscription['duration'].median())\n",
    "print('Среднее столбца duration:', data_users_without_subscription['duration'].mean())\n",
    "print('Мода столбца duration:', data_users_without_subscription['duration'].mode()[0])"
   ]
  },
  {
   "cell_type": "markdown",
   "id": "325814f5",
   "metadata": {},
   "source": [
    "Чаще всего пользователи без подписки тратят около 18 минут на поездку. Виден небольшой пик в районе единицы."
   ]
  },
  {
   "cell_type": "markdown",
   "id": "ab162e01",
   "metadata": {},
   "source": [
    "### Время поездок у пользователей с подпиской"
   ]
  },
  {
   "cell_type": "markdown",
   "id": "e3850acd",
   "metadata": {},
   "source": [
    "Построим гистрограмму по времени поездок у пользователей с подпиской"
   ]
  },
  {
   "cell_type": "code",
   "execution_count": 34,
   "id": "5d14ba5a",
   "metadata": {},
   "outputs": [
    {
     "data": {
      "image/png": "[encoded data removed]",
      "text/plain": [
       "<Figure size 1300x800 with 1 Axes>"
      ]
     },
     "metadata": {},
     "output_type": "display_data"
    }
   ],
   "source": [
    "create_graph(data_users_with_subscription['duration'], 'hist', 38, 'Время поездки пользователей с подпиской', 'Время', 'Частота')"
   ]
  },
  {
   "cell_type": "code",
   "execution_count": 35,
   "id": "98c0edbf",
   "metadata": {},
   "outputs": [
    {
     "name": "stdout",
     "output_type": "stream",
     "text": [
      "Медиана столбца duration: 19.0\n",
      "Среднее столбца duration: 19.037692307692307\n",
      "Мода столбца duration: 19\n"
     ]
    }
   ],
   "source": [
    "print('Медиана столбца duration:', data_users_with_subscription['duration'].median())\n",
    "print('Среднее столбца duration:', data_users_with_subscription['duration'].mean())\n",
    "print('Мода столбца duration:', data_users_with_subscription['duration'].mode()[0])"
   ]
  },
  {
   "cell_type": "markdown",
   "id": "7baf304c",
   "metadata": {},
   "source": [
    "Чаще всего пользователи с подпиской тратят около 19 мин на поездки"
   ]
  },
  {
   "cell_type": "markdown",
   "id": "d030138a",
   "metadata": {},
   "source": [
    "### Сравнение двух гистограмм времени"
   ]
  },
  {
   "cell_type": "markdown",
   "id": "af38d42a",
   "metadata": {},
   "source": [
    "Построим обе гистограммы затраченного времени на одном графике"
   ]
  },
  {
   "cell_type": "code",
   "execution_count": 36,
   "id": "6719f108",
   "metadata": {},
   "outputs": [
    {
     "data": {
      "image/png": "[encoded data removed]",
      "text/plain": [
       "<Figure size 1300x800 with 1 Axes>"
      ]
     },
     "metadata": {},
     "output_type": "display_data"
    }
   ],
   "source": [
    "create_both_hist('duration', 35, 38, 'Гистограммы затраченного времени пользователей с подпиской и без', 'Время')"
   ]
  },
  {
   "cell_type": "markdown",
   "id": "804a3af0",
   "metadata": {},
   "source": [
    "Видим что, гистограмма пользователей без подписи является более увеличенной версии пользователей с подпиской за счет большего количества поездок. Видим, что у пользователей с подпиской нет поездок длительностью в одну минуту. В целом пользователи обеих групп тратят примерно одинаковое время."
   ]
  },
  {
   "cell_type": "markdown",
   "id": "56a6b157",
   "metadata": {},
   "source": [
    "### Вывод по разделу\n",
    "\n",
    "Были объедены датафреймы data_users и data_rides. Новый датафрем был назван data_final.\n",
    "\n",
    "Был создан датафрейм с данными о пользователях с подпиской и назван data_users_with_subscription.\n",
    "\n",
    "Была построена гистограмма по пройденному расстоянию у пользователей без подписки. Чаще всего пользователи без подписки преодолевают расстояние около 2600 метров.\n",
    "\n",
    "Была построена гистограмма по пройденному расстоянию у пользователей с подпиской. Чаще всего пользователи с подпиской преодолевают расстояние околок 3150 метров.\n",
    "\n",
    "Были построены обе гистограммы на одном графике. Пользователи без подписки покрывают больший диапазон значений в районе пика гистограммы, так и у \"холма\", который находится в диапазоне от 250 до 1000.\n",
    "\n",
    "Была построена гистограмма по времени поездок у пользователей без подписки. Чаще всего пользователи без подписки тратят от 17 до 20 мин на поездки. \n",
    "\n",
    "Была построена гистрограмма по времени поездок у пользователей с подпиской. Чаще всего пользователи с подпиской тратят около 16 мин на поездки\n",
    "\n",
    "Были построены обе гистограммы затраченного времени на одном графике. Гистограмма пользователей без подписи является более увеличенной версии пользователей с подпиской за счет большего количества поездок. У пользователей с подпиской нет поездок длительностью в одну минуту. В целом пользователи обеих групп тратят примерно одинаковое время."
   ]
  },
  {
   "cell_type": "markdown",
   "id": "402d620f",
   "metadata": {},
   "source": [
    "## Подсчёт выручки"
   ]
  },
  {
   "cell_type": "markdown",
   "id": "175f77ff",
   "metadata": {},
   "source": [
    "### Создание датафрейма с агрегированными данными о поездках"
   ]
  },
  {
   "cell_type": "markdown",
   "id": "296145d5",
   "metadata": {},
   "source": [
    "Создадим датафрейм с агрегированными данными о поездках на основе датафрейма с объединёнными данными из шага 4. Найдём суммарное расстояние, количество поездок и суммарное время для каждого пользователя за каждый месяц."
   ]
  },
  {
   "cell_type": "code",
   "execution_count": 37,
   "id": "53049e0a",
   "metadata": {},
   "outputs": [
    {
     "data": {
      "text/html": [
       "<div>\n",
       "<style scoped>\n",
       "    .dataframe tbody tr th:only-of-type {\n",
       "        vertical-align: middle;\n",
       "    }\n",
       "\n",
       "    .dataframe tbody tr th {\n",
       "        vertical-align: top;\n",
       "    }\n",
       "\n",
       "    .dataframe thead th {\n",
       "        text-align: right;\n",
       "    }\n",
       "</style>\n",
       "<table border=\"1\" class=\"dataframe\">\n",
       "  <thead>\n",
       "    <tr style=\"text-align: right;\">\n",
       "      <th></th>\n",
       "      <th>subscription_type</th>\n",
       "      <th>user_id</th>\n",
       "      <th>month</th>\n",
       "      <th>duration</th>\n",
       "      <th>distance</th>\n",
       "      <th>rides_count</th>\n",
       "    </tr>\n",
       "  </thead>\n",
       "  <tbody>\n",
       "    <tr>\n",
       "      <th>0</th>\n",
       "      <td>free</td>\n",
       "      <td>700</td>\n",
       "      <td>1</td>\n",
       "      <td>15</td>\n",
       "      <td>2515.690719</td>\n",
       "      <td>1</td>\n",
       "    </tr>\n",
       "    <tr>\n",
       "      <th>1</th>\n",
       "      <td>free</td>\n",
       "      <td>700</td>\n",
       "      <td>2</td>\n",
       "      <td>89</td>\n",
       "      <td>13446.659764</td>\n",
       "      <td>5</td>\n",
       "    </tr>\n",
       "    <tr>\n",
       "      <th>2</th>\n",
       "      <td>free</td>\n",
       "      <td>700</td>\n",
       "      <td>3</td>\n",
       "      <td>19</td>\n",
       "      <td>3798.334905</td>\n",
       "      <td>1</td>\n",
       "    </tr>\n",
       "    <tr>\n",
       "      <th>3</th>\n",
       "      <td>free</td>\n",
       "      <td>700</td>\n",
       "      <td>4</td>\n",
       "      <td>16</td>\n",
       "      <td>2984.551206</td>\n",
       "      <td>1</td>\n",
       "    </tr>\n",
       "    <tr>\n",
       "      <th>4</th>\n",
       "      <td>free</td>\n",
       "      <td>700</td>\n",
       "      <td>6</td>\n",
       "      <td>29</td>\n",
       "      <td>5927.650988</td>\n",
       "      <td>2</td>\n",
       "    </tr>\n",
       "    <tr>\n",
       "      <th>...</th>\n",
       "      <td>...</td>\n",
       "      <td>...</td>\n",
       "      <td>...</td>\n",
       "      <td>...</td>\n",
       "      <td>...</td>\n",
       "      <td>...</td>\n",
       "    </tr>\n",
       "    <tr>\n",
       "      <th>11326</th>\n",
       "      <td>ultra</td>\n",
       "      <td>699</td>\n",
       "      <td>6</td>\n",
       "      <td>17</td>\n",
       "      <td>4072.797406</td>\n",
       "      <td>1</td>\n",
       "    </tr>\n",
       "    <tr>\n",
       "      <th>11327</th>\n",
       "      <td>ultra</td>\n",
       "      <td>699</td>\n",
       "      <td>8</td>\n",
       "      <td>45</td>\n",
       "      <td>7018.324143</td>\n",
       "      <td>2</td>\n",
       "    </tr>\n",
       "    <tr>\n",
       "      <th>11328</th>\n",
       "      <td>ultra</td>\n",
       "      <td>699</td>\n",
       "      <td>9</td>\n",
       "      <td>31</td>\n",
       "      <td>6364.861911</td>\n",
       "      <td>2</td>\n",
       "    </tr>\n",
       "    <tr>\n",
       "      <th>11329</th>\n",
       "      <td>ultra</td>\n",
       "      <td>699</td>\n",
       "      <td>10</td>\n",
       "      <td>16</td>\n",
       "      <td>4707.845501</td>\n",
       "      <td>1</td>\n",
       "    </tr>\n",
       "    <tr>\n",
       "      <th>11330</th>\n",
       "      <td>ultra</td>\n",
       "      <td>699</td>\n",
       "      <td>12</td>\n",
       "      <td>26</td>\n",
       "      <td>3202.890770</td>\n",
       "      <td>1</td>\n",
       "    </tr>\n",
       "  </tbody>\n",
       "</table>\n",
       "<p>11331 rows × 6 columns</p>\n",
       "</div>"
      ],
      "text/plain": [
       "      subscription_type  user_id  month  duration      distance  rides_count\n",
       "0                  free      700      1        15   2515.690719            1\n",
       "1                  free      700      2        89  13446.659764            5\n",
       "2                  free      700      3        19   3798.334905            1\n",
       "3                  free      700      4        16   2984.551206            1\n",
       "4                  free      700      6        29   5927.650988            2\n",
       "...                 ...      ...    ...       ...           ...          ...\n",
       "11326             ultra      699      6        17   4072.797406            1\n",
       "11327             ultra      699      8        45   7018.324143            2\n",
       "11328             ultra      699      9        31   6364.861911            2\n",
       "11329             ultra      699     10        16   4707.845501            1\n",
       "11330             ultra      699     12        26   3202.890770            1\n",
       "\n",
       "[11331 rows x 6 columns]"
      ]
     },
     "execution_count": 37,
     "metadata": {},
     "output_type": "execute_result"
    }
   ],
   "source": [
    "data_about_every_user = data_final\\\n",
    "    .groupby(['subscription_type', 'user_id','month'])\\\n",
    "    .agg({'duration': 'sum', 'distance':'sum', 'date':'count'})\\\n",
    "    .rename(columns={'date':'rides_count'})\n",
    "#Сбросим индексы\n",
    "data_about_every_user = data_about_every_user.reset_index()\n",
    "#Проверим результат\n",
    "data_about_every_user"
   ]
  },
  {
   "cell_type": "markdown",
   "id": "924722c6",
   "metadata": {},
   "source": [
    "### Добавление нового столбца"
   ]
  },
  {
   "cell_type": "markdown",
   "id": "13e060c5",
   "metadata": {},
   "source": [
    "Создадим новый столбец с доходом в таблице из предыдущего шага"
   ]
  },
  {
   "cell_type": "code",
   "execution_count": 38,
   "id": "03ab2f59",
   "metadata": {},
   "outputs": [
    {
     "data": {
      "text/html": [
       "<div>\n",
       "<style scoped>\n",
       "    .dataframe tbody tr th:only-of-type {\n",
       "        vertical-align: middle;\n",
       "    }\n",
       "\n",
       "    .dataframe tbody tr th {\n",
       "        vertical-align: top;\n",
       "    }\n",
       "\n",
       "    .dataframe thead th {\n",
       "        text-align: right;\n",
       "    }\n",
       "</style>\n",
       "<table border=\"1\" class=\"dataframe\">\n",
       "  <thead>\n",
       "    <tr style=\"text-align: right;\">\n",
       "      <th></th>\n",
       "      <th>subscription_type</th>\n",
       "      <th>user_id</th>\n",
       "      <th>month</th>\n",
       "      <th>duration</th>\n",
       "      <th>distance</th>\n",
       "      <th>rides_count</th>\n",
       "      <th>income</th>\n",
       "    </tr>\n",
       "  </thead>\n",
       "  <tbody>\n",
       "    <tr>\n",
       "      <th>0</th>\n",
       "      <td>free</td>\n",
       "      <td>700</td>\n",
       "      <td>1</td>\n",
       "      <td>15</td>\n",
       "      <td>2515.690719</td>\n",
       "      <td>1</td>\n",
       "      <td>170</td>\n",
       "    </tr>\n",
       "    <tr>\n",
       "      <th>1</th>\n",
       "      <td>free</td>\n",
       "      <td>700</td>\n",
       "      <td>2</td>\n",
       "      <td>89</td>\n",
       "      <td>13446.659764</td>\n",
       "      <td>5</td>\n",
       "      <td>962</td>\n",
       "    </tr>\n",
       "    <tr>\n",
       "      <th>2</th>\n",
       "      <td>free</td>\n",
       "      <td>700</td>\n",
       "      <td>3</td>\n",
       "      <td>19</td>\n",
       "      <td>3798.334905</td>\n",
       "      <td>1</td>\n",
       "      <td>202</td>\n",
       "    </tr>\n",
       "    <tr>\n",
       "      <th>3</th>\n",
       "      <td>free</td>\n",
       "      <td>700</td>\n",
       "      <td>4</td>\n",
       "      <td>16</td>\n",
       "      <td>2984.551206</td>\n",
       "      <td>1</td>\n",
       "      <td>178</td>\n",
       "    </tr>\n",
       "    <tr>\n",
       "      <th>4</th>\n",
       "      <td>free</td>\n",
       "      <td>700</td>\n",
       "      <td>6</td>\n",
       "      <td>29</td>\n",
       "      <td>5927.650988</td>\n",
       "      <td>2</td>\n",
       "      <td>332</td>\n",
       "    </tr>\n",
       "    <tr>\n",
       "      <th>...</th>\n",
       "      <td>...</td>\n",
       "      <td>...</td>\n",
       "      <td>...</td>\n",
       "      <td>...</td>\n",
       "      <td>...</td>\n",
       "      <td>...</td>\n",
       "      <td>...</td>\n",
       "    </tr>\n",
       "    <tr>\n",
       "      <th>11326</th>\n",
       "      <td>ultra</td>\n",
       "      <td>699</td>\n",
       "      <td>6</td>\n",
       "      <td>17</td>\n",
       "      <td>4072.797406</td>\n",
       "      <td>1</td>\n",
       "      <td>302</td>\n",
       "    </tr>\n",
       "    <tr>\n",
       "      <th>11327</th>\n",
       "      <td>ultra</td>\n",
       "      <td>699</td>\n",
       "      <td>8</td>\n",
       "      <td>45</td>\n",
       "      <td>7018.324143</td>\n",
       "      <td>2</td>\n",
       "      <td>471</td>\n",
       "    </tr>\n",
       "    <tr>\n",
       "      <th>11328</th>\n",
       "      <td>ultra</td>\n",
       "      <td>699</td>\n",
       "      <td>9</td>\n",
       "      <td>31</td>\n",
       "      <td>6364.861911</td>\n",
       "      <td>2</td>\n",
       "      <td>387</td>\n",
       "    </tr>\n",
       "    <tr>\n",
       "      <th>11329</th>\n",
       "      <td>ultra</td>\n",
       "      <td>699</td>\n",
       "      <td>10</td>\n",
       "      <td>16</td>\n",
       "      <td>4707.845501</td>\n",
       "      <td>1</td>\n",
       "      <td>296</td>\n",
       "    </tr>\n",
       "    <tr>\n",
       "      <th>11330</th>\n",
       "      <td>ultra</td>\n",
       "      <td>699</td>\n",
       "      <td>12</td>\n",
       "      <td>26</td>\n",
       "      <td>3202.890770</td>\n",
       "      <td>1</td>\n",
       "      <td>356</td>\n",
       "    </tr>\n",
       "  </tbody>\n",
       "</table>\n",
       "<p>11331 rows × 7 columns</p>\n",
       "</div>"
      ],
      "text/plain": [
       "      subscription_type  user_id  month  duration      distance  rides_count  \\\n",
       "0                  free      700      1        15   2515.690719            1   \n",
       "1                  free      700      2        89  13446.659764            5   \n",
       "2                  free      700      3        19   3798.334905            1   \n",
       "3                  free      700      4        16   2984.551206            1   \n",
       "4                  free      700      6        29   5927.650988            2   \n",
       "...                 ...      ...    ...       ...           ...          ...   \n",
       "11326             ultra      699      6        17   4072.797406            1   \n",
       "11327             ultra      699      8        45   7018.324143            2   \n",
       "11328             ultra      699      9        31   6364.861911            2   \n",
       "11329             ultra      699     10        16   4707.845501            1   \n",
       "11330             ultra      699     12        26   3202.890770            1   \n",
       "\n",
       "       income  \n",
       "0         170  \n",
       "1         962  \n",
       "2         202  \n",
       "3         178  \n",
       "4         332  \n",
       "...       ...  \n",
       "11326     302  \n",
       "11327     471  \n",
       "11328     387  \n",
       "11329     296  \n",
       "11330     356  \n",
       "\n",
       "[11331 rows x 7 columns]"
      ]
     },
     "execution_count": 38,
     "metadata": {},
     "output_type": "execute_result"
    }
   ],
   "source": [
    "data_about_every_user['income'] = [0]*data_about_every_user.shape[0]\n",
    "\n",
    "for i in range(data_about_every_user.shape[0]):\n",
    "    if data_about_every_user['subscription_type'][i] == 'free':\n",
    "        data_about_every_user.loc[i, 'income'] = 50 * data_about_every_user['rides_count'][i] + (8 * data_about_every_user['duration'][i])\n",
    "    else:\n",
    "        data_about_every_user.loc[i, 'income'] = data_about_every_user['rides_count'][i] + (6 * data_about_every_user['duration'][i]) + 199\n",
    "        \n",
    "        \n",
    "#Проверим результат\n",
    "data_about_every_user"
   ]
  },
  {
   "cell_type": "markdown",
   "id": "bacfab6b",
   "metadata": {},
   "source": [
    "### Вывод по разделу\n",
    "\n",
    "Создан датафрейм data_about_every_user с агрегированными данными о поездках на основе датафрейма с объединёнными данными из шага 4. Найдено суммарное расстояние, количество поездок и суммарное время для каждого пользователя за каждый месяц.\n",
    "\n",
    "Был создан новый столбец 'income' с суммарным доходом каждого пользователя за каждый месяц в таблице data_about_every_user."
   ]
  },
  {
   "cell_type": "markdown",
   "id": "41545ac0",
   "metadata": {},
   "source": [
    "## Проверка гипотез"
   ]
  },
  {
   "cell_type": "markdown",
   "id": "ac325189",
   "metadata": {},
   "source": [
    "### Гипотеза 1"
   ]
  },
  {
   "cell_type": "markdown",
   "id": "09927c23",
   "metadata": {},
   "source": [
    "Важно понять, тратят ли пользователи с подпиской больше времени на поездки? Если да, то пользователи с подпиской могут быть «выгоднее» для компании.\n",
    "\n",
    "Нулевая гипотеза: Среднее время поездок пользователей с подпиской = среднее время поездок пользователей без подписки\n",
    "\n",
    "Альтернативная гипотеза: Среднее время поездок пользователей с подпиской > среднее время поездок пользователей без подписки"
   ]
  },
  {
   "cell_type": "code",
   "execution_count": 39,
   "id": "23ea867b",
   "metadata": {},
   "outputs": [
    {
     "name": "stdout",
     "output_type": "stream",
     "text": [
      "p-значение: 1.1814679253701353e-36\n",
      "Отвергаем нулевую гипотезу\n"
     ]
    }
   ],
   "source": [
    "#Выберем из общей таблицы тех пользователей, которые имеют подписку\n",
    "users_ultra = data_final[data_final['subscription_type'] == 'ultra']\n",
    "#Выделим из получившейся таблицы столбец с временем поездки\n",
    "users_ultra = users_ultra['duration']\n",
    "\n",
    "\n",
    "#Выберем из общей таблицы пользователей без подписки\n",
    "users_free = data_final[data_final['subscription_type'] == 'free']\n",
    "#Выделим из получившейся таблицы столбец с временем поездки\n",
    "users_free = users_free['duration']\n",
    "\n",
    "\n",
    "alpha = 0.05 # уровень статистической значимости\n",
    "\n",
    "results = st.ttest_ind(users_ultra, users_free, equal_var=False, alternative='greater')\n",
    "\n",
    "print('p-значение:', results.pvalue)\n",
    "\n",
    "if (results.pvalue < alpha):\n",
    "    print('Отвергаем нулевую гипотезу')\n",
    "else:\n",
    "    print('Не отвергаем нулевую гипотезу') "
   ]
  },
  {
   "cell_type": "markdown",
   "id": "ffb08a47",
   "metadata": {},
   "source": [
    "Тест показал, что пользователи с подпиской тратят больше времени времени на поездки."
   ]
  },
  {
   "cell_type": "markdown",
   "id": "1e41bfd7",
   "metadata": {},
   "source": [
    "### Гипотеза 2"
   ]
  },
  {
   "cell_type": "markdown",
   "id": "ff64cd8b",
   "metadata": {},
   "source": [
    "Расстояние одной поездки в 3130 метров — оптимальное с точки зрения износа самоката. Можно ли сказать, что среднее расстояние, которое проезжают пользователи с подпиской за одну поездку, не превышает 3130 метров? \n",
    "\n",
    "Нулевая гипотеза: Среднее расстояние поездки пользователей с подпиской = 3130 метров\n",
    "\n",
    "Альтернативная гипотеза: Среднее расстояние поездки пользователей с подпиской > 3130 метров"
   ]
  },
  {
   "cell_type": "code",
   "execution_count": 40,
   "id": "361feafa",
   "metadata": {},
   "outputs": [
    {
     "name": "stdout",
     "output_type": "stream",
     "text": [
      "p-значение: 0.9195368847849785\n",
      "Не отвергаем нулевую гипотезу\n"
     ]
    }
   ],
   "source": [
    "#Выберем из общей таблицы тех пользователей, которые имеют подписку\n",
    "users_ultra = data_final[data_final['subscription_type'] == 'ultra']\n",
    "#Выделим из получившейся таблицы столбец с пройденной дистанцией за поездку\n",
    "users_ultra = users_ultra['distance']\n",
    "\n",
    "\n",
    "alpha = 0.05\n",
    "\n",
    "results = st.ttest_1samp(\n",
    "    users_ultra, \n",
    "    3130,\n",
    "      alternative= 'greater')\n",
    "\n",
    "print('p-значение:', results.pvalue)\n",
    "\n",
    "if (results.pvalue < alpha):\n",
    "    print('Отвергаем нулевую гипотезу')\n",
    "else:\n",
    "    print('Не отвергаем нулевую гипотезу') "
   ]
  },
  {
   "cell_type": "markdown",
   "id": "3cfa0d08",
   "metadata": {},
   "source": [
    "Тест показал, что среднее расстояние, которое проезжают пользователи, не превышает 3130 метров."
   ]
  },
  {
   "cell_type": "markdown",
   "id": "6899d50f",
   "metadata": {},
   "source": [
    "### Гипотеза 3"
   ]
  },
  {
   "cell_type": "markdown",
   "id": "46cea763",
   "metadata": {},
   "source": [
    "Необходимо проверить гипотезу о том, будет ли помесячная выручка от пользователей с подпиской по месяцам выше, чем выручка от пользователей без подписки. \n",
    "\n",
    "Нулевая гипотеза: Помесячная выручка пользователей с подпиской = помесячная выручка пользователей без подписки\n",
    "\n",
    "Альтернаятивная гипотеза: Помесячная выручка пользователей с подпиской > помесячная выручка пользователей без подписки"
   ]
  },
  {
   "cell_type": "code",
   "execution_count": 41,
   "id": "28e991c3",
   "metadata": {},
   "outputs": [
    {
     "name": "stdout",
     "output_type": "stream",
     "text": [
      "p-значение: 7.712594879729157e-43\n",
      "Отвергаем нулевую гипотезу\n"
     ]
    }
   ],
   "source": [
    "#Выберем из общей таблицы тех пользователей, которые имеют подписку\n",
    "users_ultra = data_about_every_user[data_about_every_user['subscription_type'] == 'ultra']\n",
    "#Выделим из получившейся таблицы столбец с временем поездки\n",
    "users_ultra = users_ultra['income']\n",
    "\n",
    "\n",
    "#Выберем из общей таблицы пользователей без подписки\n",
    "users_free = data_about_every_user[data_about_every_user['subscription_type'] == 'free']\n",
    "#Выделим из получившейся таблицы столбец с временем поездки\n",
    "users_free = users_free['income']\n",
    "\n",
    "\n",
    "alpha = 0.05 # уровень статистической значимости\n",
    "\n",
    "results = st.ttest_ind(users_ultra, users_free, equal_var=False, alternative='greater')\n",
    "\n",
    "print('p-значение:', results.pvalue)\n",
    "\n",
    "if (results.pvalue < alpha):\n",
    "    print('Отвергаем нулевую гипотезу')\n",
    "else:\n",
    "    print('Не отвергаем нулевую гипотезу') "
   ]
  },
  {
   "cell_type": "markdown",
   "id": "edf17d91",
   "metadata": {},
   "source": [
    "Тест показал, что помесячная выручка от пользователей с подпиской по месяцам выше, чем выручка от пользователей без подписки."
   ]
  },
  {
   "cell_type": "markdown",
   "id": "18941f73",
   "metadata": {},
   "source": [
    "### Вывод по разделу"
   ]
  },
  {
   "cell_type": "markdown",
   "id": "bfb00f25",
   "metadata": {},
   "source": [
    "В данном разделе было проверено 3 гипотезы.\n",
    "\n",
    "Первая гипотеза заключалась в том, чтобы проверить, тратят ли пользователи с подпиской больше времени на поездки. Тест показал, что пользователи с подпиской не тратят больше времени на поездки. \n",
    "\n",
    "Вторая гипотеза заключалась в том, что среднее расстояние, которое проезжают пользователи с подпиской за одну поездку, не превышает 3130 метров. Текст показал, что среднее расстояние, которое проезжают пользователи, не превышает 3130 метров. \n",
    "\n",
    "Третья гипотеза заключалась в том, будет ли помесячная выручка от пользователей с подпиской по месяцам выше, чем выручка от пользователей без подписки. Тест показал, что помесячная выручка от пользователей с подпиской по месяцам выше, чем выручка от пользователей без подписки. "
   ]
  },
  {
   "cell_type": "markdown",
   "id": "61213c5e",
   "metadata": {},
   "source": [
    "## Общий вывод"
   ]
  },
  {
   "cell_type": "markdown",
   "id": "2b3271ff",
   "metadata": {},
   "source": [
    "Данное исследование было проведено с целью: Проанализировать данные и проверить некоторые гипотезы, которые могут помочь бизнесу вырасти.\n",
    "\n",
    "Входные данные предоставлены сервисом GoFast — данные о некоторых пользователях из нескольких городов, а также об их поездках.\n",
    "\n",
    "В основных данных есть информация о пользователях, их поездках и подписках.\n",
    "\n",
    "**1 Загрузка данных**\n",
    "\n",
    "Для проведения анализа были импортированы 4 библиотеки:\n",
    "\n",
    "    matplotlib.pyplot;\n",
    "    pandas;\n",
    "    numpy;\n",
    "    scipy.\n",
    "    \n",
    "Предоставленные csv файлы были были сохранены в следующие переменные:\n",
    "\n",
    "    users_go.csv как data_users; \n",
    "    rides_go.csv как data_rides;\n",
    "    subscriptions_go.csv как data_subscriptions.\n",
    "\n",
    "Таблица data_users\n",
    "\n",
    "data_users содержит 5 столбцов и 1565 строк.\n",
    "\n",
    "    user_id - уникальный идентификатор пользователя\n",
    "    name - имя пользователя\n",
    "    age - возраст\n",
    "    city - \tгород\n",
    "    subscription_type - тип подписки (free, ultra)\n",
    "\n",
    "Названия столбцов корректные и в исправлении не нуждаются.\n",
    "\n",
    "Тип данных корректный у всех столбцов и в исправлении не нуждается.\n",
    "\n",
    "Пропусков в таблице нет.\n",
    "\n",
    "Потребуется сделать проверку на явные дубликаты и неявные столбцов name, city, subscription_type.\n",
    "\n",
    "Таблица data_rides\n",
    "\n",
    "data_rides содержит 4 столбца:\n",
    "\n",
    "    user_id - уникальный идентификатор пользователя\n",
    "    distance - расстояние, которое пользователь проехал в текущей сессии (в метрах)\n",
    "        duration - продолжительность сессии (в минутах) — время с того момента, как пользователь нажал кнопку «Начать поездку» до момента, как он нажал кнопку «Завершить поездку»\n",
    "    date - \tдата совершения поездки\n",
    "\n",
    "Названия столбцов корректные, и в исправлении не нуждаются.\n",
    "\n",
    "Формат столбца data был изменён на подходящий при загрузке данных. Остальные столбцы в правке не нуждаются.\n",
    "\n",
    "Пропусков в таблице нет.\n",
    "\n",
    "Потребуется сделать проверку на явные дубликаты.\n",
    "\n",
    "Таблица data_subscriptions\n",
    "\n",
    "data_subscriptions содержит 4 столбца:\n",
    "\n",
    "    subscription_type - тип подписки\n",
    "    minute_price - стоимость одной минуты поездки по данной подписке\n",
    "    start_ride_price - стоимость начала поездки\n",
    "    subscription_fee - стоимость ежемесячного платежа\n",
    "\n",
    "База содержит две строки.\n",
    "\n",
    "Названия столбцов корректные и в исправлении не нуждаются.\n",
    "\n",
    "Тип данных столбцов корректные и в исправлении не нуждаются.\n",
    "\n",
    "Пропусков нет.\n",
    "\n",
    "Поскольку строки всего две, проверку на явные дубликаты проводить не нужно.\n",
    "\n",
    "**2 Предобработка данных**\n",
    "\n",
    "В датафрейм data_rides добавлен столбец month где указан номер месяца.\n",
    "\n",
    "Была проверена база data_users на наличие явных дубликатов. Обнаружился 31 дубликат. Они были удалены. Явных дубликатов в датафрейме data_rides не оказалось.\n",
    "\n",
    "**3 Исследовательский анализ данных**\n",
    "\n",
    "Было исследовано, сколько людей пользуется сервисом в определённых городах. Больше всего пользователей в Пятигорске: 219. Меньше всего - в Москве: 168.\n",
    "\n",
    "Было исследовано соотношение пользователей с подпиской и без подписки. Пользователей без подписки чуть больше - 54.4% против 45.6%. Присутствует небольшой дисбаланс классов.\n",
    "\n",
    "С помощью гистограммы было исследовано насколько часто встречаются люди определённого возраста. Больше всего людей возраста 25-и лет. Гистограмма имеет вид нормального распределения. Каких либо отклонений не заметно.\n",
    "\n",
    "С помощью гистограммы было исследовано расстояние, которые преодолевают пользователи за одну поездку. График имеет вид нормального распределения с небольшим \"холмом\" в диапазоне от 0 до 1500. Чаще всего пользователи преодолевают расстояние около 3000 метров. В дальнейшеем анализе разделим пользователей на тех, у кого есть подписка и на тех, у кого её нет. Так мы увидим, насколько сильно отличаются гистограммы для разных групп пользователей\n",
    "\n",
    "С помощью гистограммы было исследована самая частая продолжительность поездок. Гистограмма имеет вид нормального распределения с необольшим вспеском значеник около 1. Чаще всего пользователи тратят на поездку около 17 минут. В дальнейшеем анализе разделим пользователей на тех, у кого есть подписка и на тех, у кого её нет. Так мы увидим, насколько сильно отличаются гистограммы для разных групп пользователей.\n",
    "\n",
    "**4 Объединение данных**\n",
    "\n",
    "Три таблицы были объеденены в один. Расстояние поездок было округлено до целого.\n",
    "\n",
    "Были созданы новые датафреймы: Первый - содержит данные только о пользователях без подписки, второй - с подпиской.\n",
    "\n",
    "**5 Визуализация информации по новым датафреймам**\n",
    "\n",
    "Были объедены датафреймы data_users и data_rides. Новый датафрем был назван data_final.\n",
    "\n",
    "Был создан датафрейм с данными о пользователях с подпиской и назван data_users_with_subscription.\n",
    "\n",
    "Была построена гистограмма по пройденному расстоянию у пользователей без подписки. Чаще всего пользователи без подписки преодолевают расстояние около 2600 метров.\n",
    "\n",
    "Была построена гистограмма по пройденному расстоянию у пользователей с подпиской. Чаще всего пользователи с подпиской преодолевают расстояние околок 3150 метров.\n",
    "\n",
    "Были построены обе гистограммы на одном графике. Пользователи без подписки покрывают больший диапазон значений в районе пика гистограммы, так и у \"холма\", который находится в диапазоне от 250 до 1000.\n",
    "\n",
    "Была построена гистограмма по времени поездок у пользователей без подписки. Чаще всего пользователи без подписки тратят от 17 до 20 мин на поездки.\n",
    "\n",
    "Была построена гистрограмма по времени поездок у пользователей с подпиской. Чаще всего пользователи с подпиской тратят около 16 мин на поездки\n",
    "\n",
    "Были построены обе гистограммы затраченного времени на одном графике. Гистограмма пользователей без подписи является более увеличенной версии пользователей с подпиской за счет большего количества поездок. У пользователей с подпиской нет поездок длительностью в одну минуту. В целом пользователи обеих групп тратят примерно одинаковое время.\n",
    "\n",
    "**6 Подсчёт выручки**\n",
    "\n",
    "Создан датафрейм data_about_every_user с агрегированными данными о поездках на основе датафрейма с объединёнными данными из шага 4. Найдено суммарное расстояние, количество поездок и суммарное время для каждого пользователя за каждый месяц.\n",
    "\n",
    "Был создан новый столбец 'income' с суммарным доходом каждого пользователя за каждый месяц в таблице data_about_every_user.\n",
    "\n",
    "**7 Проверка гипотез**\n",
    "\n",
    "В данном разделе было проверено 3 гипотезы.\n",
    "\n",
    "Первая гипотеза заключалась в том, чтобы проверить, тратят ли пользователи с подпиской больше времени на поездки. Тест показал, что пользователи с подпиской не тратят больше времени на поездки.\n",
    "\n",
    "Вторая гипотеза заключалась в том, что среднее расстояние, которое проезжают пользователи с подпиской за одну поездку, не превышает 3130 метров. Текст показал, что среднее расстояние, которое проезжают пользователи, не превышает 3130 метров.\n",
    "\n",
    "Третья гипотеза заключалась в том, будет ли помесячная выручка от пользователей с подпиской по месяцам выше, чем выручка от пользователей без подписки. Тест показал, что помесячная выручка от пользователей с подпиской по месяцам выше, чем выручка от пользователей без подписки."
   ]
  }
 ],
 "metadata": {
  "ExecuteTimeLog": [
   {
    "duration": 3,
    "start_time": "2023-09-02T11:13:01.344Z"
   },
   {
    "duration": 787,
    "start_time": "2023-09-02T11:37:30.063Z"
   },
   {
    "duration": 198,
    "start_time": "2023-09-02T11:40:48.087Z"
   },
   {
    "duration": 11,
    "start_time": "2023-09-02T11:43:02.098Z"
   },
   {
    "duration": 9,
    "start_time": "2023-09-02T11:43:43.714Z"
   },
   {
    "duration": 7,
    "start_time": "2023-09-02T11:44:04.802Z"
   },
   {
    "duration": 12,
    "start_time": "2023-09-02T11:51:02.188Z"
   },
   {
    "duration": 8,
    "start_time": "2023-09-02T11:51:08.418Z"
   },
   {
    "duration": 8,
    "start_time": "2023-09-02T11:51:15.334Z"
   },
   {
    "duration": 7,
    "start_time": "2023-09-02T11:51:18.546Z"
   },
   {
    "duration": 15,
    "start_time": "2023-09-02T11:53:48.871Z"
   },
   {
    "duration": 12,
    "start_time": "2023-09-02T11:54:51.481Z"
   },
   {
    "duration": 13,
    "start_time": "2023-09-02T11:59:28.180Z"
   },
   {
    "duration": 10,
    "start_time": "2023-09-02T12:03:20.032Z"
   },
   {
    "duration": 369,
    "start_time": "2023-09-02T12:06:48.135Z"
   },
   {
    "duration": 206,
    "start_time": "2023-09-02T12:07:00.675Z"
   },
   {
    "duration": 87,
    "start_time": "2023-09-02T12:14:32.995Z"
   },
   {
    "duration": 99,
    "start_time": "2023-09-02T12:15:11.610Z"
   },
   {
    "duration": 7,
    "start_time": "2023-09-02T12:15:33.648Z"
   },
   {
    "duration": 13,
    "start_time": "2023-09-02T12:16:10.344Z"
   },
   {
    "duration": 11,
    "start_time": "2023-09-02T12:16:56.189Z"
   },
   {
    "duration": 9,
    "start_time": "2023-09-02T12:16:56.937Z"
   },
   {
    "duration": 5,
    "start_time": "2023-09-02T12:21:54.800Z"
   },
   {
    "duration": 5,
    "start_time": "2023-09-02T12:21:57.409Z"
   },
   {
    "duration": 5,
    "start_time": "2023-09-02T12:22:14.386Z"
   },
   {
    "duration": 10,
    "start_time": "2023-09-02T12:22:41.722Z"
   },
   {
    "duration": 8,
    "start_time": "2023-09-02T12:22:52.432Z"
   },
   {
    "duration": 7,
    "start_time": "2023-09-02T13:31:06.092Z"
   },
   {
    "duration": 6,
    "start_time": "2023-09-02T13:32:45.856Z"
   },
   {
    "duration": 6,
    "start_time": "2023-09-02T13:34:10.452Z"
   },
   {
    "duration": 7,
    "start_time": "2023-09-02T13:36:47.975Z"
   },
   {
    "duration": 6,
    "start_time": "2023-09-02T13:37:27.404Z"
   },
   {
    "duration": 5,
    "start_time": "2023-09-02T13:43:14.272Z"
   },
   {
    "duration": 7,
    "start_time": "2023-09-02T13:43:35.824Z"
   },
   {
    "duration": 7,
    "start_time": "2023-09-02T13:43:43.780Z"
   },
   {
    "duration": 6,
    "start_time": "2023-09-02T13:44:25.401Z"
   },
   {
    "duration": 7,
    "start_time": "2023-09-02T13:44:54.739Z"
   },
   {
    "duration": 5,
    "start_time": "2023-09-02T13:46:02.900Z"
   },
   {
    "duration": 4,
    "start_time": "2023-09-02T13:49:45.925Z"
   },
   {
    "duration": 5,
    "start_time": "2023-09-02T13:50:00.624Z"
   },
   {
    "duration": 5,
    "start_time": "2023-09-02T13:53:37.023Z"
   },
   {
    "duration": 4,
    "start_time": "2023-09-02T13:53:50.712Z"
   },
   {
    "duration": 4,
    "start_time": "2023-09-02T13:54:34.442Z"
   },
   {
    "duration": 314,
    "start_time": "2023-09-02T16:18:25.374Z"
   },
   {
    "duration": 142,
    "start_time": "2023-09-02T16:18:42.742Z"
   },
   {
    "duration": 244,
    "start_time": "2023-09-02T16:19:00.548Z"
   },
   {
    "duration": 5,
    "start_time": "2023-09-02T16:33:04.692Z"
   },
   {
    "duration": 6,
    "start_time": "2023-09-02T16:43:20.102Z"
   },
   {
    "duration": 129,
    "start_time": "2023-09-02T16:45:50.078Z"
   },
   {
    "duration": 218,
    "start_time": "2023-09-02T16:46:06.211Z"
   },
   {
    "duration": 83,
    "start_time": "2023-09-02T16:46:59.836Z"
   },
   {
    "duration": 257,
    "start_time": "2023-09-02T16:49:48.109Z"
   },
   {
    "duration": 85,
    "start_time": "2023-09-02T16:51:05.109Z"
   },
   {
    "duration": 278,
    "start_time": "2023-09-02T16:51:31.399Z"
   },
   {
    "duration": 313,
    "start_time": "2023-09-02T16:52:01.701Z"
   },
   {
    "duration": 225,
    "start_time": "2023-09-02T16:52:26.483Z"
   },
   {
    "duration": 289,
    "start_time": "2023-09-02T16:52:43.991Z"
   },
   {
    "duration": 248,
    "start_time": "2023-09-02T16:55:10.727Z"
   },
   {
    "duration": 10,
    "start_time": "2023-09-03T05:23:32.848Z"
   },
   {
    "duration": 16,
    "start_time": "2023-09-03T05:23:40.853Z"
   },
   {
    "duration": 10,
    "start_time": "2023-09-03T05:27:38.502Z"
   },
   {
    "duration": 18,
    "start_time": "2023-09-03T05:27:58.102Z"
   },
   {
    "duration": 1773,
    "start_time": "2023-09-03T05:34:43.208Z"
   },
   {
    "duration": 7,
    "start_time": "2023-09-03T05:34:58.708Z"
   },
   {
    "duration": 17,
    "start_time": "2023-09-03T05:35:10.096Z"
   },
   {
    "duration": 6,
    "start_time": "2023-09-03T05:35:42.612Z"
   },
   {
    "duration": 5,
    "start_time": "2023-09-03T05:37:19.407Z"
   },
   {
    "duration": 4,
    "start_time": "2023-09-03T05:37:39.828Z"
   },
   {
    "duration": 6,
    "start_time": "2023-09-03T05:37:46.899Z"
   },
   {
    "duration": 5,
    "start_time": "2023-09-03T05:37:47.619Z"
   },
   {
    "duration": 5,
    "start_time": "2023-09-03T05:37:48.394Z"
   },
   {
    "duration": 4,
    "start_time": "2023-09-03T05:37:49.196Z"
   },
   {
    "duration": 125,
    "start_time": "2023-09-03T05:40:32.835Z"
   },
   {
    "duration": 216,
    "start_time": "2023-09-03T05:40:40.589Z"
   },
   {
    "duration": 306,
    "start_time": "2023-09-03T05:42:08.018Z"
   },
   {
    "duration": 208,
    "start_time": "2023-09-03T05:43:43.398Z"
   },
   {
    "duration": 220,
    "start_time": "2023-09-03T05:44:39.510Z"
   },
   {
    "duration": 220,
    "start_time": "2023-09-03T05:45:35.534Z"
   },
   {
    "duration": 221,
    "start_time": "2023-09-03T05:46:10.102Z"
   },
   {
    "duration": 324,
    "start_time": "2023-09-03T05:48:03.358Z"
   },
   {
    "duration": 217,
    "start_time": "2023-09-03T05:48:26.857Z"
   },
   {
    "duration": 212,
    "start_time": "2023-09-03T05:48:44.970Z"
   },
   {
    "duration": 214,
    "start_time": "2023-09-03T05:48:56.843Z"
   },
   {
    "duration": 215,
    "start_time": "2023-09-03T05:49:09.658Z"
   },
   {
    "duration": 247,
    "start_time": "2023-09-03T05:50:53.657Z"
   },
   {
    "duration": 377,
    "start_time": "2023-09-03T05:51:29.913Z"
   },
   {
    "duration": 224,
    "start_time": "2023-09-03T05:52:14.551Z"
   },
   {
    "duration": 10,
    "start_time": "2023-09-03T06:39:14.821Z"
   },
   {
    "duration": 9,
    "start_time": "2023-09-03T06:39:25.460Z"
   },
   {
    "duration": 37,
    "start_time": "2023-09-03T08:24:07.539Z"
   },
   {
    "duration": 23,
    "start_time": "2023-09-03T08:24:10.492Z"
   },
   {
    "duration": 17,
    "start_time": "2023-09-03T11:41:46.551Z"
   },
   {
    "duration": 18,
    "start_time": "2023-09-03T11:41:47.689Z"
   },
   {
    "duration": 5,
    "start_time": "2023-09-03T11:45:10.674Z"
   },
   {
    "duration": 18,
    "start_time": "2023-09-03T11:45:20.023Z"
   },
   {
    "duration": 5,
    "start_time": "2023-09-03T11:45:26.807Z"
   },
   {
    "duration": 19,
    "start_time": "2023-09-03T11:45:28.335Z"
   },
   {
    "duration": 6,
    "start_time": "2023-09-03T11:45:41.496Z"
   },
   {
    "duration": 24,
    "start_time": "2023-09-03T11:45:43.031Z"
   },
   {
    "duration": 29,
    "start_time": "2023-09-03T11:45:57.911Z"
   },
   {
    "duration": 6,
    "start_time": "2023-09-03T11:46:09.197Z"
   },
   {
    "duration": 18,
    "start_time": "2023-09-03T11:46:10.033Z"
   },
   {
    "duration": 5,
    "start_time": "2023-09-03T11:48:36.071Z"
   },
   {
    "duration": 18,
    "start_time": "2023-09-03T11:48:36.730Z"
   },
   {
    "duration": 18,
    "start_time": "2023-09-03T11:49:42.845Z"
   },
   {
    "duration": 21,
    "start_time": "2023-09-03T11:49:46.332Z"
   },
   {
    "duration": 20,
    "start_time": "2023-09-03T11:53:40.926Z"
   },
   {
    "duration": 15,
    "start_time": "2023-09-03T11:53:41.911Z"
   },
   {
    "duration": 1312,
    "start_time": "2023-09-03T11:54:46.001Z"
   },
   {
    "duration": 1402,
    "start_time": "2023-09-03T11:55:30.245Z"
   },
   {
    "duration": 5,
    "start_time": "2023-09-03T11:57:55.074Z"
   },
   {
    "duration": 3259,
    "start_time": "2023-09-03T11:58:09.753Z"
   },
   {
    "duration": 17,
    "start_time": "2023-09-03T11:58:18.132Z"
   },
   {
    "duration": 14,
    "start_time": "2023-09-03T12:26:41.154Z"
   },
   {
    "duration": 1585,
    "start_time": "2023-09-03T12:27:55.352Z"
   },
   {
    "duration": 14,
    "start_time": "2023-09-03T12:28:03.623Z"
   },
   {
    "duration": 6,
    "start_time": "2023-09-03T12:28:04.049Z"
   },
   {
    "duration": 3254,
    "start_time": "2023-09-03T12:28:05.527Z"
   },
   {
    "duration": 14,
    "start_time": "2023-09-03T12:28:13.107Z"
   },
   {
    "duration": 5,
    "start_time": "2023-09-03T12:29:16.080Z"
   },
   {
    "duration": 25,
    "start_time": "2023-09-03T12:29:19.465Z"
   },
   {
    "duration": 4,
    "start_time": "2023-09-03T12:29:59.931Z"
   },
   {
    "duration": 18,
    "start_time": "2023-09-03T12:30:00.535Z"
   },
   {
    "duration": 5,
    "start_time": "2023-09-03T12:30:43.487Z"
   },
   {
    "duration": 14,
    "start_time": "2023-09-03T12:30:45.623Z"
   },
   {
    "duration": 13,
    "start_time": "2023-09-03T15:19:08.235Z"
   },
   {
    "duration": 51,
    "start_time": "2023-10-01T12:45:29.112Z"
   },
   {
    "duration": 871,
    "start_time": "2023-10-01T12:45:44.779Z"
   },
   {
    "duration": 191,
    "start_time": "2023-10-01T12:45:45.652Z"
   },
   {
    "duration": 14,
    "start_time": "2023-10-01T12:45:45.845Z"
   },
   {
    "duration": 16,
    "start_time": "2023-10-01T12:45:45.861Z"
   },
   {
    "duration": 15,
    "start_time": "2023-10-01T12:45:45.879Z"
   },
   {
    "duration": 24,
    "start_time": "2023-10-01T12:45:45.895Z"
   },
   {
    "duration": 7,
    "start_time": "2023-10-01T12:45:45.921Z"
   },
   {
    "duration": 31,
    "start_time": "2023-10-01T12:45:45.930Z"
   },
   {
    "duration": 148,
    "start_time": "2023-10-01T12:45:45.963Z"
   },
   {
    "duration": 17,
    "start_time": "2023-10-01T12:45:46.114Z"
   },
   {
    "duration": 14,
    "start_time": "2023-10-01T12:45:46.133Z"
   },
   {
    "duration": 35,
    "start_time": "2023-10-01T12:45:46.149Z"
   },
   {
    "duration": 22,
    "start_time": "2023-10-01T12:45:46.187Z"
   },
   {
    "duration": 11,
    "start_time": "2023-10-01T12:45:46.211Z"
   },
   {
    "duration": 7,
    "start_time": "2023-10-01T12:45:46.224Z"
   },
   {
    "duration": 14,
    "start_time": "2023-10-01T12:45:46.232Z"
   },
   {
    "duration": 24,
    "start_time": "2023-10-01T12:45:46.248Z"
   },
   {
    "duration": 12,
    "start_time": "2023-10-01T12:45:46.273Z"
   },
   {
    "duration": 14,
    "start_time": "2023-10-01T12:45:46.288Z"
   },
   {
    "duration": 7,
    "start_time": "2023-10-01T12:45:46.304Z"
   },
   {
    "duration": 24,
    "start_time": "2023-10-01T12:45:46.314Z"
   },
   {
    "duration": 7,
    "start_time": "2023-10-01T12:45:46.340Z"
   },
   {
    "duration": 40,
    "start_time": "2023-10-01T12:45:46.348Z"
   },
   {
    "duration": 286,
    "start_time": "2023-10-01T12:45:46.390Z"
   },
   {
    "duration": 274,
    "start_time": "2023-10-01T12:45:46.677Z"
   },
   {
    "duration": 367,
    "start_time": "2023-10-01T12:45:46.953Z"
   },
   {
    "duration": 14,
    "start_time": "2023-10-01T12:45:47.322Z"
   },
   {
    "duration": 31,
    "start_time": "2023-10-01T12:45:47.340Z"
   },
   {
    "duration": 51,
    "start_time": "2023-10-01T12:45:47.373Z"
   },
   {
    "duration": 32,
    "start_time": "2023-10-01T12:45:47.427Z"
   },
   {
    "duration": 23,
    "start_time": "2023-10-01T12:45:47.461Z"
   },
   {
    "duration": 29,
    "start_time": "2023-10-01T12:45:47.486Z"
   },
   {
    "duration": 40,
    "start_time": "2023-10-01T12:45:47.517Z"
   },
   {
    "duration": 294,
    "start_time": "2023-10-01T12:45:47.560Z"
   },
   {
    "duration": 265,
    "start_time": "2023-10-01T12:45:47.856Z"
   },
   {
    "duration": 263,
    "start_time": "2023-10-01T12:45:48.122Z"
   },
   {
    "duration": 309,
    "start_time": "2023-10-01T12:45:48.387Z"
   },
   {
    "duration": 25,
    "start_time": "2023-10-01T12:45:48.698Z"
   },
   {
    "duration": 10,
    "start_time": "2023-10-01T12:45:48.726Z"
   },
   {
    "duration": 3531,
    "start_time": "2023-10-01T12:45:48.738Z"
   },
   {
    "duration": 5,
    "start_time": "2023-10-01T12:45:52.270Z"
   },
   {
    "duration": 47,
    "start_time": "2023-10-01T12:45:52.277Z"
   },
   {
    "duration": 92,
    "start_time": "2023-10-01T12:45:52.356Z"
   },
   {
    "duration": 0,
    "start_time": "2023-10-01T12:45:52.449Z"
   },
   {
    "duration": 6,
    "start_time": "2023-10-01T12:46:07.867Z"
   },
   {
    "duration": 5,
    "start_time": "2023-10-01T12:46:45.379Z"
   },
   {
    "duration": 5,
    "start_time": "2023-10-01T12:46:51.511Z"
   },
   {
    "duration": 7,
    "start_time": "2023-10-01T12:47:09.057Z"
   },
   {
    "duration": 19,
    "start_time": "2023-10-01T12:47:18.823Z"
   },
   {
    "duration": 9,
    "start_time": "2023-10-01T12:47:40.063Z"
   },
   {
    "duration": 20,
    "start_time": "2023-10-01T12:47:43.305Z"
   },
   {
    "duration": 10,
    "start_time": "2023-10-01T12:52:25.869Z"
   },
   {
    "duration": 10,
    "start_time": "2023-10-01T12:53:11.096Z"
   },
   {
    "duration": 5,
    "start_time": "2023-10-01T12:53:11.974Z"
   },
   {
    "duration": 6,
    "start_time": "2023-10-01T12:53:27.558Z"
   },
   {
    "duration": 6,
    "start_time": "2023-10-01T12:53:35.205Z"
   },
   {
    "duration": 7,
    "start_time": "2023-10-01T13:03:12.997Z"
   },
   {
    "duration": 9,
    "start_time": "2023-10-01T13:03:55.930Z"
   },
   {
    "duration": 6,
    "start_time": "2023-10-01T13:03:57.440Z"
   },
   {
    "duration": 6,
    "start_time": "2023-10-01T13:04:03.761Z"
   },
   {
    "duration": 11,
    "start_time": "2023-10-01T13:07:42.021Z"
   },
   {
    "duration": 479,
    "start_time": "2023-10-01T13:08:12.153Z"
   },
   {
    "duration": 32,
    "start_time": "2023-10-01T13:08:17.879Z"
   },
   {
    "duration": 6,
    "start_time": "2023-10-01T13:08:47.457Z"
   },
   {
    "duration": 13,
    "start_time": "2023-10-01T13:12:07.459Z"
   },
   {
    "duration": 13,
    "start_time": "2023-10-01T13:20:39.889Z"
   },
   {
    "duration": 8,
    "start_time": "2023-10-01T13:29:24.636Z"
   },
   {
    "duration": 21,
    "start_time": "2023-10-01T13:29:38.400Z"
   },
   {
    "duration": 1505,
    "start_time": "2023-10-01T13:30:15.768Z"
   },
   {
    "duration": 6,
    "start_time": "2023-10-01T13:30:22.635Z"
   },
   {
    "duration": 9,
    "start_time": "2023-10-01T13:30:27.941Z"
   },
   {
    "duration": 10,
    "start_time": "2023-10-01T13:32:19.163Z"
   },
   {
    "duration": 13,
    "start_time": "2023-10-01T13:32:25.492Z"
   },
   {
    "duration": 13,
    "start_time": "2023-10-01T13:32:32.232Z"
   },
   {
    "duration": 12,
    "start_time": "2023-10-01T13:34:25.528Z"
   },
   {
    "duration": 12,
    "start_time": "2023-10-01T13:35:04.552Z"
   },
   {
    "duration": 9,
    "start_time": "2023-10-01T13:35:08.742Z"
   },
   {
    "duration": 9,
    "start_time": "2023-10-01T13:35:13.403Z"
   },
   {
    "duration": 9,
    "start_time": "2023-10-01T13:37:03.547Z"
   },
   {
    "duration": 14,
    "start_time": "2023-10-01T13:48:36.843Z"
   },
   {
    "duration": 12,
    "start_time": "2023-10-01T13:48:45.921Z"
   },
   {
    "duration": 12,
    "start_time": "2023-10-01T13:49:05.730Z"
   },
   {
    "duration": 13,
    "start_time": "2023-10-01T13:50:33.262Z"
   },
   {
    "duration": 5,
    "start_time": "2023-10-01T15:37:16.479Z"
   },
   {
    "duration": 12,
    "start_time": "2023-10-01T15:37:44.966Z"
   },
   {
    "duration": 6,
    "start_time": "2023-10-01T15:38:05.338Z"
   },
   {
    "duration": 6,
    "start_time": "2023-10-01T15:38:10.866Z"
   },
   {
    "duration": 6,
    "start_time": "2023-10-01T15:38:25.059Z"
   },
   {
    "duration": 7,
    "start_time": "2023-10-01T15:38:31.172Z"
   },
   {
    "duration": 6,
    "start_time": "2023-10-01T15:38:44.382Z"
   },
   {
    "duration": 6,
    "start_time": "2023-10-01T15:39:06.227Z"
   },
   {
    "duration": 9,
    "start_time": "2023-10-01T15:39:35.618Z"
   },
   {
    "duration": 12,
    "start_time": "2023-10-01T15:40:07.175Z"
   },
   {
    "duration": 6,
    "start_time": "2023-10-01T15:40:19.873Z"
   },
   {
    "duration": 6,
    "start_time": "2023-10-01T15:40:58.475Z"
   },
   {
    "duration": 5,
    "start_time": "2023-10-01T15:41:11.670Z"
   },
   {
    "duration": 244,
    "start_time": "2023-10-01T15:41:27.022Z"
   },
   {
    "duration": 264,
    "start_time": "2023-10-01T15:42:00.086Z"
   },
   {
    "duration": 12,
    "start_time": "2023-10-01T15:42:10.567Z"
   },
   {
    "duration": 33,
    "start_time": "2023-10-01T15:43:03.330Z"
   },
   {
    "duration": 8,
    "start_time": "2023-10-01T15:43:20.112Z"
   },
   {
    "duration": 8,
    "start_time": "2023-10-01T15:43:36.842Z"
   },
   {
    "duration": 8,
    "start_time": "2023-10-01T15:44:29.185Z"
   },
   {
    "duration": 253,
    "start_time": "2023-10-01T15:45:23.786Z"
   },
   {
    "duration": 346,
    "start_time": "2023-10-01T15:45:45.127Z"
   },
   {
    "duration": 255,
    "start_time": "2023-10-01T15:45:57.873Z"
   },
   {
    "duration": 13,
    "start_time": "2023-10-01T15:46:51.534Z"
   },
   {
    "duration": 3,
    "start_time": "2023-10-01T16:02:05.254Z"
   },
   {
    "duration": 68,
    "start_time": "2023-10-01T16:02:24.976Z"
   },
   {
    "duration": 10,
    "start_time": "2023-10-01T16:02:46.286Z"
   },
   {
    "duration": 13,
    "start_time": "2023-10-01T16:02:59.598Z"
   },
   {
    "duration": 9,
    "start_time": "2023-10-01T16:03:18.446Z"
   },
   {
    "duration": 11,
    "start_time": "2023-10-01T16:03:41.310Z"
   },
   {
    "duration": 8,
    "start_time": "2023-10-01T16:04:23.465Z"
   },
   {
    "duration": 8,
    "start_time": "2023-10-01T16:04:27.906Z"
   },
   {
    "duration": 11,
    "start_time": "2023-10-01T16:04:53.906Z"
   },
   {
    "duration": 48,
    "start_time": "2023-10-02T13:59:51.456Z"
   },
   {
    "duration": 6,
    "start_time": "2023-10-02T14:07:58.346Z"
   },
   {
    "duration": 1278,
    "start_time": "2023-10-02T14:08:10.718Z"
   },
   {
    "duration": 207,
    "start_time": "2023-10-02T14:08:11.998Z"
   },
   {
    "duration": 13,
    "start_time": "2023-10-02T14:08:12.206Z"
   },
   {
    "duration": 11,
    "start_time": "2023-10-02T14:08:12.221Z"
   },
   {
    "duration": 73,
    "start_time": "2023-10-02T14:08:12.235Z"
   },
   {
    "duration": 18,
    "start_time": "2023-10-02T14:08:12.310Z"
   },
   {
    "duration": 7,
    "start_time": "2023-10-02T14:08:12.330Z"
   },
   {
    "duration": 50,
    "start_time": "2023-10-02T14:08:12.338Z"
   },
   {
    "duration": 34,
    "start_time": "2023-10-02T14:08:12.390Z"
   },
   {
    "duration": 10,
    "start_time": "2023-10-02T14:08:12.426Z"
   },
   {
    "duration": 6,
    "start_time": "2023-10-02T14:08:12.438Z"
   },
   {
    "duration": 13,
    "start_time": "2023-10-02T14:08:12.445Z"
   },
   {
    "duration": 13,
    "start_time": "2023-10-02T14:08:12.460Z"
   },
   {
    "duration": 17,
    "start_time": "2023-10-02T14:08:12.475Z"
   },
   {
    "duration": 9,
    "start_time": "2023-10-02T14:08:12.494Z"
   },
   {
    "duration": 7,
    "start_time": "2023-10-02T14:08:12.505Z"
   },
   {
    "duration": 10,
    "start_time": "2023-10-02T14:08:12.514Z"
   },
   {
    "duration": 50,
    "start_time": "2023-10-02T14:08:12.526Z"
   },
   {
    "duration": 55,
    "start_time": "2023-10-02T14:08:12.577Z"
   },
   {
    "duration": 305,
    "start_time": "2023-10-02T14:08:12.635Z"
   },
   {
    "duration": 243,
    "start_time": "2023-10-02T14:08:12.942Z"
   },
   {
    "duration": 243,
    "start_time": "2023-10-02T14:08:13.187Z"
   },
   {
    "duration": 39,
    "start_time": "2023-10-02T14:08:13.432Z"
   },
   {
    "duration": 8,
    "start_time": "2023-10-02T14:08:13.472Z"
   },
   {
    "duration": 21,
    "start_time": "2023-10-02T14:08:13.481Z"
   },
   {
    "duration": 228,
    "start_time": "2023-10-02T14:08:13.503Z"
   },
   {
    "duration": 294,
    "start_time": "2023-10-02T14:08:13.732Z"
   },
   {
    "duration": 242,
    "start_time": "2023-10-02T14:08:14.028Z"
   },
   {
    "duration": 265,
    "start_time": "2023-10-02T14:08:14.272Z"
   },
   {
    "duration": 21,
    "start_time": "2023-10-02T14:08:14.538Z"
   },
   {
    "duration": 13,
    "start_time": "2023-10-02T14:08:14.560Z"
   },
   {
    "duration": 3334,
    "start_time": "2023-10-02T14:08:14.575Z"
   },
   {
    "duration": 5,
    "start_time": "2023-10-02T14:08:17.910Z"
   },
   {
    "duration": 24,
    "start_time": "2023-10-02T14:08:17.916Z"
   },
   {
    "duration": 22,
    "start_time": "2023-10-02T14:08:17.949Z"
   },
   {
    "duration": 34,
    "start_time": "2023-10-02T14:08:17.972Z"
   },
   {
    "duration": 57,
    "start_time": "2023-10-02T14:08:18.008Z"
   },
   {
    "duration": 15,
    "start_time": "2023-10-02T14:17:14.223Z"
   },
   {
    "duration": 14,
    "start_time": "2023-10-02T14:18:05.764Z"
   },
   {
    "duration": 1391,
    "start_time": "2023-10-02T14:55:57.921Z"
   },
   {
    "duration": 215,
    "start_time": "2023-10-02T14:55:59.314Z"
   },
   {
    "duration": 17,
    "start_time": "2023-10-02T14:55:59.532Z"
   },
   {
    "duration": 21,
    "start_time": "2023-10-02T14:55:59.551Z"
   },
   {
    "duration": 14,
    "start_time": "2023-10-02T14:55:59.574Z"
   },
   {
    "duration": 26,
    "start_time": "2023-10-02T14:55:59.590Z"
   },
   {
    "duration": 18,
    "start_time": "2023-10-02T14:55:59.617Z"
   },
   {
    "duration": 33,
    "start_time": "2023-10-02T14:55:59.637Z"
   },
   {
    "duration": 41,
    "start_time": "2023-10-02T14:55:59.672Z"
   },
   {
    "duration": 34,
    "start_time": "2023-10-02T14:55:59.716Z"
   },
   {
    "duration": 18,
    "start_time": "2023-10-02T14:55:59.752Z"
   },
   {
    "duration": 36,
    "start_time": "2023-10-02T14:55:59.772Z"
   },
   {
    "duration": 16,
    "start_time": "2023-10-02T14:55:59.810Z"
   },
   {
    "duration": 27,
    "start_time": "2023-10-02T14:55:59.829Z"
   },
   {
    "duration": 42,
    "start_time": "2023-10-02T14:55:59.858Z"
   },
   {
    "duration": 43,
    "start_time": "2023-10-02T14:55:59.902Z"
   },
   {
    "duration": 28,
    "start_time": "2023-10-02T14:55:59.947Z"
   },
   {
    "duration": 46,
    "start_time": "2023-10-02T14:55:59.977Z"
   },
   {
    "duration": 78,
    "start_time": "2023-10-02T14:56:00.025Z"
   },
   {
    "duration": 307,
    "start_time": "2023-10-02T14:56:00.105Z"
   },
   {
    "duration": 409,
    "start_time": "2023-10-02T14:56:00.414Z"
   },
   {
    "duration": 520,
    "start_time": "2023-10-02T14:56:00.824Z"
   },
   {
    "duration": 93,
    "start_time": "2023-10-02T14:56:01.346Z"
   },
   {
    "duration": 83,
    "start_time": "2023-10-02T14:56:01.442Z"
   },
   {
    "duration": 309,
    "start_time": "2023-10-02T14:56:01.528Z"
   },
   {
    "duration": 776,
    "start_time": "2023-10-02T14:56:01.840Z"
   },
   {
    "duration": 742,
    "start_time": "2023-10-02T14:56:02.619Z"
   },
   {
    "duration": 518,
    "start_time": "2023-10-02T14:56:03.412Z"
   },
   {
    "duration": 339,
    "start_time": "2023-10-02T14:56:03.933Z"
   },
   {
    "duration": 47,
    "start_time": "2023-10-02T14:56:04.275Z"
   },
   {
    "duration": 6219,
    "start_time": "2023-10-02T14:56:04.324Z"
   },
   {
    "duration": 19,
    "start_time": "2023-10-02T14:56:10.545Z"
   },
   {
    "duration": 23,
    "start_time": "2023-10-02T14:56:10.566Z"
   },
   {
    "duration": 23,
    "start_time": "2023-10-02T14:56:10.608Z"
   },
   {
    "duration": 19,
    "start_time": "2023-10-02T14:56:10.634Z"
   },
   {
    "duration": 19,
    "start_time": "2023-10-02T16:40:57.672Z"
   },
   {
    "duration": 29,
    "start_time": "2023-10-02T16:41:17.093Z"
   },
   {
    "duration": 116,
    "start_time": "2023-10-02T16:42:50.993Z"
   },
   {
    "duration": 7,
    "start_time": "2023-10-02T16:48:55.548Z"
   },
   {
    "duration": 9,
    "start_time": "2023-10-02T16:49:04.124Z"
   },
   {
    "duration": 8,
    "start_time": "2023-10-02T16:49:53.358Z"
   },
   {
    "duration": 13,
    "start_time": "2023-10-02T16:51:34.856Z"
   },
   {
    "duration": 7,
    "start_time": "2023-10-02T16:51:41.107Z"
   },
   {
    "duration": 48,
    "start_time": "2023-10-03T12:00:18.692Z"
   },
   {
    "duration": 1345,
    "start_time": "2023-10-03T12:00:33.725Z"
   },
   {
    "duration": 194,
    "start_time": "2023-10-03T12:00:35.072Z"
   },
   {
    "duration": 12,
    "start_time": "2023-10-03T12:00:35.268Z"
   },
   {
    "duration": 13,
    "start_time": "2023-10-03T12:00:35.282Z"
   },
   {
    "duration": 22,
    "start_time": "2023-10-03T12:00:35.297Z"
   },
   {
    "duration": 12,
    "start_time": "2023-10-03T12:00:35.321Z"
   },
   {
    "duration": 18,
    "start_time": "2023-10-03T12:00:35.334Z"
   },
   {
    "duration": 16,
    "start_time": "2023-10-03T12:00:35.353Z"
   },
   {
    "duration": 22,
    "start_time": "2023-10-03T12:00:35.371Z"
   },
   {
    "duration": 11,
    "start_time": "2023-10-03T12:00:35.396Z"
   },
   {
    "duration": 7,
    "start_time": "2023-10-03T12:00:35.409Z"
   },
   {
    "duration": 15,
    "start_time": "2023-10-03T12:00:35.417Z"
   },
   {
    "duration": 27,
    "start_time": "2023-10-03T12:00:35.434Z"
   },
   {
    "duration": 37,
    "start_time": "2023-10-03T12:00:35.462Z"
   },
   {
    "duration": 13,
    "start_time": "2023-10-03T12:00:35.501Z"
   },
   {
    "duration": 9,
    "start_time": "2023-10-03T12:00:35.516Z"
   },
   {
    "duration": 10,
    "start_time": "2023-10-03T12:00:35.527Z"
   },
   {
    "duration": 263,
    "start_time": "2023-10-03T12:00:35.538Z"
   },
   {
    "duration": 6,
    "start_time": "2023-10-03T12:00:35.803Z"
   },
   {
    "duration": 257,
    "start_time": "2023-10-03T12:00:35.811Z"
   },
   {
    "duration": 257,
    "start_time": "2023-10-03T12:00:36.070Z"
   },
   {
    "duration": 271,
    "start_time": "2023-10-03T12:00:36.329Z"
   },
   {
    "duration": 41,
    "start_time": "2023-10-03T12:00:36.602Z"
   },
   {
    "duration": 9,
    "start_time": "2023-10-03T12:00:36.644Z"
   },
   {
    "duration": 31,
    "start_time": "2023-10-03T12:00:36.654Z"
   },
   {
    "duration": 323,
    "start_time": "2023-10-03T12:00:36.686Z"
   },
   {
    "duration": 281,
    "start_time": "2023-10-03T12:00:37.011Z"
   },
   {
    "duration": 250,
    "start_time": "2023-10-03T12:00:37.295Z"
   },
   {
    "duration": 265,
    "start_time": "2023-10-03T12:00:37.546Z"
   },
   {
    "duration": 17,
    "start_time": "2023-10-03T12:00:37.813Z"
   },
   {
    "duration": 3529,
    "start_time": "2023-10-03T12:00:37.832Z"
   },
   {
    "duration": 20,
    "start_time": "2023-10-03T12:00:41.363Z"
   },
   {
    "duration": 30,
    "start_time": "2023-10-03T12:00:41.385Z"
   },
   {
    "duration": 29,
    "start_time": "2023-10-03T12:00:41.417Z"
   },
   {
    "duration": 14,
    "start_time": "2023-10-03T12:00:41.448Z"
   },
   {
    "duration": 205,
    "start_time": "2023-10-03T12:06:17.124Z"
   },
   {
    "duration": 103,
    "start_time": "2023-10-03T12:06:53.744Z"
   },
   {
    "duration": 185,
    "start_time": "2023-10-03T12:07:15.428Z"
   },
   {
    "duration": 321,
    "start_time": "2023-10-03T12:14:35.334Z"
   },
   {
    "duration": 13,
    "start_time": "2023-10-03T12:14:41.441Z"
   },
   {
    "duration": 10,
    "start_time": "2023-10-03T12:15:14.554Z"
   },
   {
    "duration": 16,
    "start_time": "2023-10-03T12:15:20.632Z"
   },
   {
    "duration": 2,
    "start_time": "2023-10-03T12:15:47.274Z"
   },
   {
    "duration": 181,
    "start_time": "2023-10-03T12:15:50.286Z"
   },
   {
    "duration": 15,
    "start_time": "2023-10-03T12:22:03.242Z"
   },
   {
    "duration": 2876,
    "start_time": "2023-10-03T12:22:16.170Z"
   },
   {
    "duration": 15,
    "start_time": "2023-10-03T12:22:29.026Z"
   },
   {
    "duration": 14,
    "start_time": "2023-10-03T12:22:35.542Z"
   },
   {
    "duration": 16,
    "start_time": "2023-10-03T12:22:40.872Z"
   },
   {
    "duration": 479,
    "start_time": "2023-10-03T12:23:13.858Z"
   },
   {
    "duration": 10,
    "start_time": "2023-10-03T12:28:36.286Z"
   },
   {
    "duration": 13,
    "start_time": "2023-10-03T12:28:40.989Z"
   },
   {
    "duration": 15,
    "start_time": "2023-10-03T12:28:51.127Z"
   },
   {
    "duration": 15,
    "start_time": "2023-10-03T12:32:29.586Z"
   },
   {
    "duration": 6,
    "start_time": "2023-10-03T12:33:04.947Z"
   },
   {
    "duration": 10,
    "start_time": "2023-10-03T12:33:11.014Z"
   },
   {
    "duration": 6,
    "start_time": "2023-10-03T12:34:19.563Z"
   },
   {
    "duration": 10,
    "start_time": "2023-10-03T12:34:27.418Z"
   },
   {
    "duration": 6,
    "start_time": "2023-10-03T12:34:42.789Z"
   },
   {
    "duration": 8,
    "start_time": "2023-10-03T12:34:48.662Z"
   },
   {
    "duration": 265,
    "start_time": "2023-10-03T12:35:50.955Z"
   },
   {
    "duration": 14,
    "start_time": "2023-10-03T12:36:13.058Z"
   },
   {
    "duration": 348,
    "start_time": "2023-10-03T12:36:19.819Z"
   },
   {
    "duration": 171,
    "start_time": "2023-10-03T12:36:28.241Z"
   },
   {
    "duration": 224,
    "start_time": "2023-10-03T12:37:28.327Z"
   },
   {
    "duration": 149,
    "start_time": "2023-10-03T12:39:39.491Z"
   },
   {
    "duration": 2159,
    "start_time": "2023-10-03T12:39:59.888Z"
   },
   {
    "duration": 18,
    "start_time": "2023-10-03T12:40:36.770Z"
   },
   {
    "duration": 151,
    "start_time": "2023-10-03T12:40:50.551Z"
   },
   {
    "duration": 118,
    "start_time": "2023-10-03T12:42:41.223Z"
   },
   {
    "duration": 116,
    "start_time": "2023-10-03T12:42:56.799Z"
   },
   {
    "duration": 163,
    "start_time": "2023-10-03T12:47:39.167Z"
   },
   {
    "duration": 161,
    "start_time": "2023-10-03T12:48:24.222Z"
   },
   {
    "duration": 162,
    "start_time": "2023-10-03T12:52:26.962Z"
   },
   {
    "duration": 156,
    "start_time": "2023-10-03T12:52:51.016Z"
   },
   {
    "duration": 170,
    "start_time": "2023-10-03T12:53:17.155Z"
   },
   {
    "duration": 16,
    "start_time": "2023-10-03T12:53:26.391Z"
   },
   {
    "duration": 134,
    "start_time": "2023-10-03T12:54:11.975Z"
   },
   {
    "duration": 142,
    "start_time": "2023-10-03T12:54:45.064Z"
   },
   {
    "duration": 249,
    "start_time": "2023-10-03T12:55:35.306Z"
   },
   {
    "duration": 248,
    "start_time": "2023-10-03T12:56:12.239Z"
   },
   {
    "duration": 243,
    "start_time": "2023-10-03T12:57:08.970Z"
   },
   {
    "duration": 241,
    "start_time": "2023-10-03T12:57:24.123Z"
   },
   {
    "duration": 12,
    "start_time": "2023-10-03T12:57:35.567Z"
   },
   {
    "duration": 14,
    "start_time": "2023-10-03T12:58:53.758Z"
   },
   {
    "duration": 159,
    "start_time": "2023-10-03T12:58:59.410Z"
   },
   {
    "duration": 292,
    "start_time": "2023-10-03T12:59:19.901Z"
   },
   {
    "duration": 172,
    "start_time": "2023-10-03T13:01:18.873Z"
   },
   {
    "duration": 3635,
    "start_time": "2023-10-03T13:01:44.493Z"
   },
   {
    "duration": 268,
    "start_time": "2023-10-03T13:02:07.719Z"
   },
   {
    "duration": 10,
    "start_time": "2023-10-03T13:02:38.011Z"
   },
   {
    "duration": 11,
    "start_time": "2023-10-03T13:03:06.958Z"
   },
   {
    "duration": 156,
    "start_time": "2023-10-03T13:03:23.842Z"
   },
   {
    "duration": 174,
    "start_time": "2023-10-03T13:04:02.612Z"
   },
   {
    "duration": 178,
    "start_time": "2023-10-03T13:04:39.163Z"
   },
   {
    "duration": 307,
    "start_time": "2023-10-03T13:05:35.695Z"
   },
   {
    "duration": 135,
    "start_time": "2023-10-03T13:07:28.411Z"
   },
   {
    "duration": 10,
    "start_time": "2023-10-03T13:07:37.763Z"
   },
   {
    "duration": 1978,
    "start_time": "2023-10-03T13:08:04.875Z"
   },
   {
    "duration": 7,
    "start_time": "2023-10-03T13:09:22.002Z"
   },
   {
    "duration": 18,
    "start_time": "2023-10-03T13:09:26.720Z"
   },
   {
    "duration": 206,
    "start_time": "2023-10-03T13:10:08.827Z"
   },
   {
    "duration": 6,
    "start_time": "2023-10-03T13:10:20.260Z"
   },
   {
    "duration": 11,
    "start_time": "2023-10-03T13:10:39.596Z"
   },
   {
    "duration": 2258,
    "start_time": "2023-10-03T13:12:31.604Z"
   },
   {
    "duration": 743,
    "start_time": "2023-10-03T13:12:45.415Z"
   },
   {
    "duration": 7,
    "start_time": "2023-10-03T13:13:23.561Z"
   },
   {
    "duration": 183,
    "start_time": "2023-10-03T13:14:59.724Z"
   },
   {
    "duration": 326,
    "start_time": "2023-10-03T13:15:08.331Z"
   },
   {
    "duration": 305,
    "start_time": "2023-10-03T13:15:49.579Z"
   },
   {
    "duration": 2186,
    "start_time": "2023-10-03T13:16:56.188Z"
   },
   {
    "duration": 830,
    "start_time": "2023-10-03T13:17:08.911Z"
   },
   {
    "duration": 327,
    "start_time": "2023-10-03T13:17:34.223Z"
   },
   {
    "duration": 326,
    "start_time": "2023-10-03T13:17:47.447Z"
   },
   {
    "duration": 337,
    "start_time": "2023-10-03T13:18:59.067Z"
   },
   {
    "duration": 311,
    "start_time": "2023-10-03T13:19:20.150Z"
   },
   {
    "duration": 320,
    "start_time": "2023-10-03T13:19:32.622Z"
   },
   {
    "duration": 312,
    "start_time": "2023-10-03T13:19:41.187Z"
   },
   {
    "duration": 34,
    "start_time": "2023-10-03T13:22:11.918Z"
   },
   {
    "duration": 37,
    "start_time": "2023-10-03T13:22:34.645Z"
   },
   {
    "duration": 22,
    "start_time": "2023-10-03T13:22:54.331Z"
   },
   {
    "duration": 22,
    "start_time": "2023-10-03T13:23:04.527Z"
   },
   {
    "duration": 43,
    "start_time": "2023-10-03T13:35:44.979Z"
   },
   {
    "duration": 3389,
    "start_time": "2023-10-03T13:36:40.267Z"
   },
   {
    "duration": 17,
    "start_time": "2023-10-03T13:36:44.354Z"
   },
   {
    "duration": 3439,
    "start_time": "2023-10-03T13:37:40.953Z"
   },
   {
    "duration": 13,
    "start_time": "2023-10-03T13:37:44.394Z"
   },
   {
    "duration": 27,
    "start_time": "2023-10-03T13:37:55.940Z"
   },
   {
    "duration": 3524,
    "start_time": "2023-10-03T13:38:00.963Z"
   },
   {
    "duration": 14,
    "start_time": "2023-10-03T13:38:04.489Z"
   },
   {
    "duration": 3902,
    "start_time": "2023-10-03T13:38:33.754Z"
   },
   {
    "duration": 23,
    "start_time": "2023-10-03T13:38:37.659Z"
   },
   {
    "duration": 320,
    "start_time": "2023-10-03T13:39:28.323Z"
   },
   {
    "duration": 14,
    "start_time": "2023-10-03T13:40:42.778Z"
   },
   {
    "duration": 16,
    "start_time": "2023-10-03T13:41:01.499Z"
   },
   {
    "duration": 12,
    "start_time": "2023-10-03T13:46:56.382Z"
   },
   {
    "duration": 12,
    "start_time": "2023-10-03T13:48:14.398Z"
   },
   {
    "duration": 9,
    "start_time": "2023-10-03T13:54:48.642Z"
   },
   {
    "duration": 10,
    "start_time": "2023-10-03T13:56:21.934Z"
   },
   {
    "duration": 11,
    "start_time": "2023-10-03T13:58:36.366Z"
   },
   {
    "duration": 2214,
    "start_time": "2023-10-03T18:00:19.345Z"
   },
   {
    "duration": 118,
    "start_time": "2023-10-03T18:00:21.562Z"
   },
   {
    "duration": 63,
    "start_time": "2023-10-03T18:00:21.682Z"
   },
   {
    "duration": 17,
    "start_time": "2023-10-03T18:00:21.747Z"
   },
   {
    "duration": 88,
    "start_time": "2023-10-03T18:00:21.768Z"
   },
   {
    "duration": 49,
    "start_time": "2023-10-03T18:00:21.858Z"
   },
   {
    "duration": 19,
    "start_time": "2023-10-03T18:00:21.945Z"
   },
   {
    "duration": 82,
    "start_time": "2023-10-03T18:00:21.966Z"
   },
   {
    "duration": 46,
    "start_time": "2023-10-03T18:00:22.051Z"
   },
   {
    "duration": 62,
    "start_time": "2023-10-03T18:00:22.099Z"
   },
   {
    "duration": 41,
    "start_time": "2023-10-03T18:00:22.163Z"
   },
   {
    "duration": 12,
    "start_time": "2023-10-03T18:00:22.244Z"
   },
   {
    "duration": 89,
    "start_time": "2023-10-03T18:00:22.258Z"
   },
   {
    "duration": 108,
    "start_time": "2023-10-03T18:00:22.352Z"
   },
   {
    "duration": 45,
    "start_time": "2023-10-03T18:00:22.463Z"
   },
   {
    "duration": 78,
    "start_time": "2023-10-03T18:00:22.510Z"
   },
   {
    "duration": 55,
    "start_time": "2023-10-03T18:00:22.590Z"
   },
   {
    "duration": 330,
    "start_time": "2023-10-03T18:00:22.648Z"
   },
   {
    "duration": 180,
    "start_time": "2023-10-03T18:00:22.980Z"
   },
   {
    "duration": 361,
    "start_time": "2023-10-03T18:00:23.161Z"
   },
   {
    "duration": 453,
    "start_time": "2023-10-03T18:00:23.524Z"
   },
   {
    "duration": 339,
    "start_time": "2023-10-03T18:00:23.979Z"
   },
   {
    "duration": 52,
    "start_time": "2023-10-03T18:00:24.320Z"
   },
   {
    "duration": 25,
    "start_time": "2023-10-03T18:00:24.374Z"
   },
   {
    "duration": 15,
    "start_time": "2023-10-03T18:00:24.401Z"
   },
   {
    "duration": 480,
    "start_time": "2023-10-03T18:00:24.418Z"
   },
   {
    "duration": 288,
    "start_time": "2023-10-03T18:00:24.899Z"
   },
   {
    "duration": 289,
    "start_time": "2023-10-03T18:00:25.189Z"
   },
   {
    "duration": 272,
    "start_time": "2023-10-03T18:00:25.480Z"
   },
   {
    "duration": 32,
    "start_time": "2023-10-03T18:00:25.754Z"
   },
   {
    "duration": 3687,
    "start_time": "2023-10-03T18:00:25.787Z"
   },
   {
    "duration": 13,
    "start_time": "2023-10-03T18:00:29.476Z"
   },
   {
    "duration": 11,
    "start_time": "2023-10-03T18:00:29.491Z"
   },
   {
    "duration": 12,
    "start_time": "2023-10-03T18:00:29.504Z"
   },
   {
    "duration": 36,
    "start_time": "2023-10-03T18:00:29.517Z"
   },
   {
    "duration": 5,
    "start_time": "2023-10-03T18:05:18.216Z"
   },
   {
    "duration": 110,
    "start_time": "2023-10-03T18:07:24.960Z"
   },
   {
    "duration": 7,
    "start_time": "2023-10-03T18:08:12.619Z"
   },
   {
    "duration": 10,
    "start_time": "2023-10-03T18:08:21.457Z"
   },
   {
    "duration": 50,
    "start_time": "2023-10-04T00:07:36.495Z"
   },
   {
    "duration": 1365,
    "start_time": "2023-10-04T00:07:49.910Z"
   },
   {
    "duration": 195,
    "start_time": "2023-10-04T00:07:51.277Z"
   },
   {
    "duration": 13,
    "start_time": "2023-10-04T00:07:51.473Z"
   },
   {
    "duration": 23,
    "start_time": "2023-10-04T00:07:51.488Z"
   },
   {
    "duration": 30,
    "start_time": "2023-10-04T00:07:51.513Z"
   },
   {
    "duration": 57,
    "start_time": "2023-10-04T00:07:51.545Z"
   },
   {
    "duration": 12,
    "start_time": "2023-10-04T00:07:51.604Z"
   },
   {
    "duration": 42,
    "start_time": "2023-10-04T00:07:51.618Z"
   },
   {
    "duration": 24,
    "start_time": "2023-10-04T00:07:51.662Z"
   },
   {
    "duration": 18,
    "start_time": "2023-10-04T00:07:51.689Z"
   },
   {
    "duration": 16,
    "start_time": "2023-10-04T00:07:51.709Z"
   },
   {
    "duration": 19,
    "start_time": "2023-10-04T00:07:51.727Z"
   },
   {
    "duration": 28,
    "start_time": "2023-10-04T00:07:51.749Z"
   },
   {
    "duration": 25,
    "start_time": "2023-10-04T00:07:51.779Z"
   },
   {
    "duration": 10,
    "start_time": "2023-10-04T00:07:51.806Z"
   },
   {
    "duration": 24,
    "start_time": "2023-10-04T00:07:51.818Z"
   },
   {
    "duration": 25,
    "start_time": "2023-10-04T00:07:51.844Z"
   },
   {
    "duration": 193,
    "start_time": "2023-10-04T00:07:51.871Z"
   },
   {
    "duration": 147,
    "start_time": "2023-10-04T00:07:52.066Z"
   },
   {
    "duration": 304,
    "start_time": "2023-10-04T00:07:52.215Z"
   },
   {
    "duration": 322,
    "start_time": "2023-10-04T00:07:52.521Z"
   },
   {
    "duration": 300,
    "start_time": "2023-10-04T00:07:52.844Z"
   },
   {
    "duration": 33,
    "start_time": "2023-10-04T00:07:53.146Z"
   },
   {
    "duration": 28,
    "start_time": "2023-10-04T00:07:53.181Z"
   },
   {
    "duration": 15,
    "start_time": "2023-10-04T00:07:53.211Z"
   },
   {
    "duration": 328,
    "start_time": "2023-10-04T00:07:53.228Z"
   },
   {
    "duration": 256,
    "start_time": "2023-10-04T00:07:53.558Z"
   },
   {
    "duration": 259,
    "start_time": "2023-10-04T00:07:53.817Z"
   },
   {
    "duration": 269,
    "start_time": "2023-10-04T00:07:54.078Z"
   },
   {
    "duration": 28,
    "start_time": "2023-10-04T00:07:54.349Z"
   },
   {
    "duration": 3207,
    "start_time": "2023-10-04T00:07:54.378Z"
   },
   {
    "duration": 23,
    "start_time": "2023-10-04T00:07:57.587Z"
   },
   {
    "duration": 25,
    "start_time": "2023-10-04T00:07:57.611Z"
   },
   {
    "duration": 45,
    "start_time": "2023-10-04T00:07:57.638Z"
   },
   {
    "duration": 16,
    "start_time": "2023-10-04T00:07:57.685Z"
   },
   {
    "duration": 211,
    "start_time": "2023-10-04T00:08:14.616Z"
   },
   {
    "duration": 164,
    "start_time": "2023-10-04T00:08:26.010Z"
   },
   {
    "duration": 292,
    "start_time": "2023-10-04T00:09:29.736Z"
   },
   {
    "duration": 424,
    "start_time": "2023-10-04T00:09:59.851Z"
   },
   {
    "duration": 291,
    "start_time": "2023-10-04T00:11:10.879Z"
   },
   {
    "duration": 50,
    "start_time": "2023-10-04T05:05:17.990Z"
   },
   {
    "duration": 1374,
    "start_time": "2023-10-04T05:05:26.536Z"
   },
   {
    "duration": 186,
    "start_time": "2023-10-04T05:05:27.912Z"
   },
   {
    "duration": 12,
    "start_time": "2023-10-04T05:05:28.100Z"
   },
   {
    "duration": 14,
    "start_time": "2023-10-04T05:05:28.113Z"
   },
   {
    "duration": 14,
    "start_time": "2023-10-04T05:05:28.128Z"
   },
   {
    "duration": 15,
    "start_time": "2023-10-04T05:05:28.143Z"
   },
   {
    "duration": 7,
    "start_time": "2023-10-04T05:05:28.159Z"
   },
   {
    "duration": 27,
    "start_time": "2023-10-04T05:05:28.167Z"
   },
   {
    "duration": 17,
    "start_time": "2023-10-04T05:05:28.195Z"
   },
   {
    "duration": 11,
    "start_time": "2023-10-04T05:05:28.214Z"
   },
   {
    "duration": 13,
    "start_time": "2023-10-04T05:05:28.227Z"
   },
   {
    "duration": 26,
    "start_time": "2023-10-04T05:05:28.243Z"
   },
   {
    "duration": 23,
    "start_time": "2023-10-04T05:05:28.270Z"
   },
   {
    "duration": 14,
    "start_time": "2023-10-04T05:05:28.294Z"
   },
   {
    "duration": 25,
    "start_time": "2023-10-04T05:05:28.309Z"
   },
   {
    "duration": 23,
    "start_time": "2023-10-04T05:05:28.336Z"
   },
   {
    "duration": 17,
    "start_time": "2023-10-04T05:05:28.360Z"
   },
   {
    "duration": 187,
    "start_time": "2023-10-04T05:05:28.379Z"
   },
   {
    "duration": 127,
    "start_time": "2023-10-04T05:05:28.568Z"
   },
   {
    "duration": 298,
    "start_time": "2023-10-04T05:05:28.696Z"
   },
   {
    "duration": 312,
    "start_time": "2023-10-04T05:05:28.996Z"
   },
   {
    "duration": 297,
    "start_time": "2023-10-04T05:05:29.309Z"
   },
   {
    "duration": 37,
    "start_time": "2023-10-04T05:05:29.607Z"
   },
   {
    "duration": 9,
    "start_time": "2023-10-04T05:05:29.646Z"
   },
   {
    "duration": 12,
    "start_time": "2023-10-04T05:05:29.656Z"
   },
   {
    "duration": 319,
    "start_time": "2023-10-04T05:05:29.669Z"
   },
   {
    "duration": 235,
    "start_time": "2023-10-04T05:05:29.990Z"
   },
   {
    "duration": 247,
    "start_time": "2023-10-04T05:05:30.228Z"
   },
   {
    "duration": 243,
    "start_time": "2023-10-04T05:05:30.477Z"
   },
   {
    "duration": 37,
    "start_time": "2023-10-04T05:05:30.722Z"
   },
   {
    "duration": 3227,
    "start_time": "2023-10-04T05:05:30.761Z"
   },
   {
    "duration": 14,
    "start_time": "2023-10-04T05:05:33.990Z"
   },
   {
    "duration": 11,
    "start_time": "2023-10-04T05:05:34.006Z"
   },
   {
    "duration": 28,
    "start_time": "2023-10-04T05:05:34.019Z"
   },
   {
    "duration": 19,
    "start_time": "2023-10-04T05:05:34.049Z"
   },
   {
    "duration": 323,
    "start_time": "2023-10-04T05:05:53.459Z"
   },
   {
    "duration": 313,
    "start_time": "2023-10-04T05:12:48.339Z"
   },
   {
    "duration": 399,
    "start_time": "2023-10-04T05:17:48.631Z"
   },
   {
    "duration": 277,
    "start_time": "2023-10-04T05:19:27.934Z"
   },
   {
    "duration": 97,
    "start_time": "2023-10-04T05:23:40.850Z"
   },
   {
    "duration": 146,
    "start_time": "2023-10-04T05:25:46.400Z"
   },
   {
    "duration": 161,
    "start_time": "2023-10-04T05:26:24.798Z"
   },
   {
    "duration": 174,
    "start_time": "2023-10-04T05:26:42.663Z"
   },
   {
    "duration": 161,
    "start_time": "2023-10-04T05:26:50.776Z"
   },
   {
    "duration": 129,
    "start_time": "2023-10-04T05:27:51.354Z"
   },
   {
    "duration": 144,
    "start_time": "2023-10-04T05:28:07.552Z"
   },
   {
    "duration": 133,
    "start_time": "2023-10-04T05:28:31.312Z"
   },
   {
    "duration": 350,
    "start_time": "2023-10-04T05:29:30.403Z"
   },
   {
    "duration": 130,
    "start_time": "2023-10-04T05:32:28.195Z"
   },
   {
    "duration": 139,
    "start_time": "2023-10-04T05:32:46.896Z"
   },
   {
    "duration": 157,
    "start_time": "2023-10-04T05:32:55.443Z"
   },
   {
    "duration": 143,
    "start_time": "2023-10-04T05:35:19.475Z"
   },
   {
    "duration": 146,
    "start_time": "2023-10-04T05:35:42.526Z"
   },
   {
    "duration": 153,
    "start_time": "2023-10-04T05:35:55.535Z"
   },
   {
    "duration": 180,
    "start_time": "2023-10-04T05:36:00.723Z"
   },
   {
    "duration": 161,
    "start_time": "2023-10-04T05:38:42.007Z"
   },
   {
    "duration": 131,
    "start_time": "2023-10-04T05:39:28.685Z"
   },
   {
    "duration": 147,
    "start_time": "2023-10-04T05:40:02.349Z"
   },
   {
    "duration": 135,
    "start_time": "2023-10-04T05:40:09.404Z"
   },
   {
    "duration": 144,
    "start_time": "2023-10-04T05:45:07.128Z"
   },
   {
    "duration": 151,
    "start_time": "2023-10-04T05:45:25.634Z"
   },
   {
    "duration": 144,
    "start_time": "2023-10-04T05:45:44.309Z"
   },
   {
    "duration": 136,
    "start_time": "2023-10-04T05:46:01.928Z"
   },
   {
    "duration": 10,
    "start_time": "2023-10-04T05:47:02.015Z"
   },
   {
    "duration": 129,
    "start_time": "2023-10-04T05:47:07.274Z"
   },
   {
    "duration": 315,
    "start_time": "2023-10-04T05:52:06.373Z"
   },
   {
    "duration": 175,
    "start_time": "2023-10-04T05:52:31.443Z"
   },
   {
    "duration": 10,
    "start_time": "2023-10-04T05:53:05.668Z"
   },
   {
    "duration": 382,
    "start_time": "2023-10-04T05:53:45.481Z"
   },
   {
    "duration": 135,
    "start_time": "2023-10-04T06:00:47.801Z"
   },
   {
    "duration": 154,
    "start_time": "2023-10-04T06:00:53.772Z"
   },
   {
    "duration": 149,
    "start_time": "2023-10-04T06:02:13.948Z"
   },
   {
    "duration": 143,
    "start_time": "2023-10-04T06:02:30.880Z"
   },
   {
    "duration": 141,
    "start_time": "2023-10-04T06:02:51.118Z"
   },
   {
    "duration": 142,
    "start_time": "2023-10-04T06:02:58.539Z"
   },
   {
    "duration": 139,
    "start_time": "2023-10-04T06:03:07.670Z"
   },
   {
    "duration": 136,
    "start_time": "2023-10-04T06:03:30.183Z"
   },
   {
    "duration": 141,
    "start_time": "2023-10-04T06:03:40.115Z"
   },
   {
    "duration": 175,
    "start_time": "2023-10-04T06:03:44.451Z"
   },
   {
    "duration": 162,
    "start_time": "2023-10-04T06:04:28.968Z"
   },
   {
    "duration": 293,
    "start_time": "2023-10-04T06:04:47.961Z"
   },
   {
    "duration": 137,
    "start_time": "2023-10-04T06:05:02.857Z"
   },
   {
    "duration": 145,
    "start_time": "2023-10-04T06:05:15.211Z"
   },
   {
    "duration": 234,
    "start_time": "2023-10-04T06:05:26.700Z"
   },
   {
    "duration": 258,
    "start_time": "2023-10-04T06:05:38.336Z"
   },
   {
    "duration": 258,
    "start_time": "2023-10-04T06:05:45.935Z"
   },
   {
    "duration": 250,
    "start_time": "2023-10-04T06:06:07.055Z"
   },
   {
    "duration": 101,
    "start_time": "2023-10-04T06:10:27.929Z"
   },
   {
    "duration": 126,
    "start_time": "2023-10-04T06:10:49.034Z"
   },
   {
    "duration": 252,
    "start_time": "2023-10-04T06:12:22.234Z"
   },
   {
    "duration": 423,
    "start_time": "2023-10-04T06:22:41.961Z"
   },
   {
    "duration": 272,
    "start_time": "2023-10-04T06:23:04.580Z"
   },
   {
    "duration": 319,
    "start_time": "2023-10-04T06:24:13.767Z"
   },
   {
    "duration": 231,
    "start_time": "2023-10-04T06:24:26.684Z"
   },
   {
    "duration": 257,
    "start_time": "2023-10-04T06:24:39.434Z"
   },
   {
    "duration": 242,
    "start_time": "2023-10-04T06:24:46.539Z"
   },
   {
    "duration": 232,
    "start_time": "2023-10-04T06:26:00.821Z"
   },
   {
    "duration": 144,
    "start_time": "2023-10-04T06:28:01.471Z"
   },
   {
    "duration": 1230,
    "start_time": "2023-10-04T07:06:28.795Z"
   },
   {
    "duration": 206,
    "start_time": "2023-10-04T07:06:30.027Z"
   },
   {
    "duration": 13,
    "start_time": "2023-10-04T07:06:30.235Z"
   },
   {
    "duration": 276,
    "start_time": "2023-10-04T07:06:30.250Z"
   },
   {
    "duration": 69,
    "start_time": "2023-10-04T07:06:30.528Z"
   },
   {
    "duration": 150,
    "start_time": "2023-10-04T07:06:30.599Z"
   },
   {
    "duration": 101,
    "start_time": "2023-10-04T07:06:30.751Z"
   },
   {
    "duration": 40,
    "start_time": "2023-10-04T07:06:30.854Z"
   },
   {
    "duration": 71,
    "start_time": "2023-10-04T07:06:30.897Z"
   },
   {
    "duration": 23,
    "start_time": "2023-10-04T07:06:30.971Z"
   },
   {
    "duration": 34,
    "start_time": "2023-10-04T07:06:30.996Z"
   },
   {
    "duration": 105,
    "start_time": "2023-10-04T07:06:31.032Z"
   },
   {
    "duration": 68,
    "start_time": "2023-10-04T07:06:31.139Z"
   },
   {
    "duration": 53,
    "start_time": "2023-10-04T07:06:31.210Z"
   },
   {
    "duration": 68,
    "start_time": "2023-10-04T07:06:31.265Z"
   },
   {
    "duration": 180,
    "start_time": "2023-10-04T07:06:31.335Z"
   },
   {
    "duration": 108,
    "start_time": "2023-10-04T07:06:31.517Z"
   },
   {
    "duration": 277,
    "start_time": "2023-10-04T07:06:31.627Z"
   },
   {
    "duration": 178,
    "start_time": "2023-10-04T07:06:31.908Z"
   },
   {
    "duration": 192,
    "start_time": "2023-10-04T07:06:32.088Z"
   },
   {
    "duration": 522,
    "start_time": "2023-10-04T07:06:32.282Z"
   },
   {
    "duration": 367,
    "start_time": "2023-10-04T07:06:32.808Z"
   },
   {
    "duration": 47,
    "start_time": "2023-10-04T07:06:33.176Z"
   },
   {
    "duration": 13,
    "start_time": "2023-10-04T07:06:33.225Z"
   },
   {
    "duration": 9,
    "start_time": "2023-10-04T07:06:33.240Z"
   },
   {
    "duration": 323,
    "start_time": "2023-10-04T07:06:33.250Z"
   },
   {
    "duration": 378,
    "start_time": "2023-10-04T07:06:33.575Z"
   },
   {
    "duration": 298,
    "start_time": "2023-10-04T07:06:33.955Z"
   },
   {
    "duration": 291,
    "start_time": "2023-10-04T07:06:34.256Z"
   },
   {
    "duration": 30,
    "start_time": "2023-10-04T07:06:34.549Z"
   },
   {
    "duration": 3810,
    "start_time": "2023-10-04T07:06:34.581Z"
   },
   {
    "duration": 26,
    "start_time": "2023-10-04T07:06:38.393Z"
   },
   {
    "duration": 28,
    "start_time": "2023-10-04T07:06:38.423Z"
   },
   {
    "duration": 22,
    "start_time": "2023-10-04T07:06:38.453Z"
   },
   {
    "duration": 116,
    "start_time": "2023-10-04T07:06:38.476Z"
   },
   {
    "duration": 175,
    "start_time": "2023-10-04T07:09:56.040Z"
   },
   {
    "duration": 204,
    "start_time": "2023-10-04T07:10:05.192Z"
   },
   {
    "duration": 52,
    "start_time": "2023-10-04T09:20:37.720Z"
   },
   {
    "duration": 1362,
    "start_time": "2023-10-04T09:20:44.504Z"
   },
   {
    "duration": 336,
    "start_time": "2023-10-04T09:20:45.868Z"
   },
   {
    "duration": 13,
    "start_time": "2023-10-04T09:20:46.206Z"
   },
   {
    "duration": 35,
    "start_time": "2023-10-04T09:20:46.220Z"
   },
   {
    "duration": 148,
    "start_time": "2023-10-04T09:20:46.256Z"
   },
   {
    "duration": 256,
    "start_time": "2023-10-04T09:20:46.406Z"
   },
   {
    "duration": 7,
    "start_time": "2023-10-04T09:20:46.664Z"
   },
   {
    "duration": 20,
    "start_time": "2023-10-04T09:20:46.673Z"
   },
   {
    "duration": 22,
    "start_time": "2023-10-04T09:20:46.695Z"
   },
   {
    "duration": 11,
    "start_time": "2023-10-04T09:20:46.720Z"
   },
   {
    "duration": 23,
    "start_time": "2023-10-04T09:20:46.733Z"
   },
   {
    "duration": 6,
    "start_time": "2023-10-04T09:20:46.759Z"
   },
   {
    "duration": 7,
    "start_time": "2023-10-04T09:20:46.766Z"
   },
   {
    "duration": 11,
    "start_time": "2023-10-04T09:20:46.775Z"
   },
   {
    "duration": 9,
    "start_time": "2023-10-04T09:20:46.788Z"
   },
   {
    "duration": 10,
    "start_time": "2023-10-04T09:20:46.799Z"
   },
   {
    "duration": 45,
    "start_time": "2023-10-04T09:20:46.811Z"
   },
   {
    "duration": 216,
    "start_time": "2023-10-04T09:20:46.858Z"
   },
   {
    "duration": 144,
    "start_time": "2023-10-04T09:20:47.076Z"
   },
   {
    "duration": 159,
    "start_time": "2023-10-04T09:20:47.222Z"
   },
   {
    "duration": 158,
    "start_time": "2023-10-04T09:20:47.382Z"
   },
   {
    "duration": 317,
    "start_time": "2023-10-04T09:20:47.541Z"
   },
   {
    "duration": 341,
    "start_time": "2023-10-04T09:20:47.860Z"
   },
   {
    "duration": 36,
    "start_time": "2023-10-04T09:20:48.202Z"
   },
   {
    "duration": 11,
    "start_time": "2023-10-04T09:20:48.256Z"
   },
   {
    "duration": 8,
    "start_time": "2023-10-04T09:20:48.269Z"
   },
   {
    "duration": 353,
    "start_time": "2023-10-04T09:20:48.278Z"
   },
   {
    "duration": 292,
    "start_time": "2023-10-04T09:20:48.635Z"
   },
   {
    "duration": 295,
    "start_time": "2023-10-04T09:20:48.930Z"
   },
   {
    "duration": 260,
    "start_time": "2023-10-04T09:20:49.227Z"
   },
   {
    "duration": 33,
    "start_time": "2023-10-04T09:20:49.489Z"
   },
   {
    "duration": 3216,
    "start_time": "2023-10-04T09:20:49.524Z"
   },
   {
    "duration": 23,
    "start_time": "2023-10-04T09:20:52.742Z"
   },
   {
    "duration": 11,
    "start_time": "2023-10-04T09:20:52.767Z"
   },
   {
    "duration": 8,
    "start_time": "2023-10-04T09:20:52.780Z"
   },
   {
    "duration": 10,
    "start_time": "2023-10-04T09:20:52.790Z"
   },
   {
    "duration": 307,
    "start_time": "2023-10-04T09:21:25.347Z"
   },
   {
    "duration": 257,
    "start_time": "2023-10-04T09:21:30.657Z"
   },
   {
    "duration": 352,
    "start_time": "2023-10-04T09:21:47.527Z"
   },
   {
    "duration": 290,
    "start_time": "2023-10-04T09:22:58.286Z"
   },
   {
    "duration": 320,
    "start_time": "2023-10-04T09:24:58.076Z"
   },
   {
    "duration": 320,
    "start_time": "2023-10-04T09:25:21.505Z"
   },
   {
    "duration": 341,
    "start_time": "2023-10-04T09:26:30.781Z"
   },
   {
    "duration": 341,
    "start_time": "2023-10-04T09:26:46.602Z"
   },
   {
    "duration": 490,
    "start_time": "2023-10-04T09:27:01.125Z"
   },
   {
    "duration": 436,
    "start_time": "2023-10-04T09:28:28.764Z"
   },
   {
    "duration": 336,
    "start_time": "2023-10-04T09:28:45.172Z"
   },
   {
    "duration": 410,
    "start_time": "2023-10-04T09:30:43.510Z"
   },
   {
    "duration": 369,
    "start_time": "2023-10-04T09:31:10.150Z"
   },
   {
    "duration": 125,
    "start_time": "2023-10-04T09:37:11.784Z"
   },
   {
    "duration": 430,
    "start_time": "2023-10-04T09:39:39.955Z"
   },
   {
    "duration": 100,
    "start_time": "2023-10-04T09:41:21.564Z"
   },
   {
    "duration": 331,
    "start_time": "2023-10-04T09:41:30.206Z"
   },
   {
    "duration": 306,
    "start_time": "2023-10-04T09:44:11.038Z"
   },
   {
    "duration": 347,
    "start_time": "2023-10-04T09:46:52.075Z"
   },
   {
    "duration": 122,
    "start_time": "2023-10-04T09:47:50.733Z"
   },
   {
    "duration": 1222,
    "start_time": "2023-10-04T10:57:26.998Z"
   },
   {
    "duration": 387,
    "start_time": "2023-10-04T10:57:28.222Z"
   },
   {
    "duration": 13,
    "start_time": "2023-10-04T10:57:28.610Z"
   },
   {
    "duration": 12,
    "start_time": "2023-10-04T10:57:28.625Z"
   },
   {
    "duration": 35,
    "start_time": "2023-10-04T10:57:28.639Z"
   },
   {
    "duration": 14,
    "start_time": "2023-10-04T10:57:28.676Z"
   },
   {
    "duration": 21,
    "start_time": "2023-10-04T10:57:28.692Z"
   },
   {
    "duration": 21,
    "start_time": "2023-10-04T10:57:28.714Z"
   },
   {
    "duration": 55,
    "start_time": "2023-10-04T10:57:28.737Z"
   },
   {
    "duration": 10,
    "start_time": "2023-10-04T10:57:28.794Z"
   },
   {
    "duration": 5,
    "start_time": "2023-10-04T10:57:28.805Z"
   },
   {
    "duration": 8,
    "start_time": "2023-10-04T10:57:28.812Z"
   },
   {
    "duration": 5,
    "start_time": "2023-10-04T10:57:28.821Z"
   },
   {
    "duration": 10,
    "start_time": "2023-10-04T10:57:28.829Z"
   },
   {
    "duration": 16,
    "start_time": "2023-10-04T10:57:28.841Z"
   },
   {
    "duration": 26,
    "start_time": "2023-10-04T10:57:28.859Z"
   },
   {
    "duration": 9,
    "start_time": "2023-10-04T10:57:28.888Z"
   },
   {
    "duration": 198,
    "start_time": "2023-10-04T10:57:28.899Z"
   },
   {
    "duration": 189,
    "start_time": "2023-10-04T10:57:29.099Z"
   },
   {
    "duration": 702,
    "start_time": "2023-10-04T10:57:29.297Z"
   },
   {
    "duration": 378,
    "start_time": "2023-10-04T10:57:30.045Z"
   },
   {
    "duration": 395,
    "start_time": "2023-10-04T10:57:30.425Z"
   },
   {
    "duration": 840,
    "start_time": "2023-10-04T10:57:30.853Z"
   },
   {
    "duration": 94,
    "start_time": "2023-10-04T10:57:31.694Z"
   },
   {
    "duration": 102,
    "start_time": "2023-10-04T10:57:31.790Z"
   },
   {
    "duration": 22,
    "start_time": "2023-10-04T10:57:31.893Z"
   },
   {
    "duration": 1178,
    "start_time": "2023-10-04T10:57:31.917Z"
   },
   {
    "duration": 802,
    "start_time": "2023-10-04T10:57:33.097Z"
   },
   {
    "duration": 797,
    "start_time": "2023-10-04T10:57:33.901Z"
   },
   {
    "duration": 790,
    "start_time": "2023-10-04T10:57:34.700Z"
   },
   {
    "duration": 82,
    "start_time": "2023-10-04T10:57:35.492Z"
   },
   {
    "duration": 6739,
    "start_time": "2023-10-04T10:57:35.576Z"
   },
   {
    "duration": 19,
    "start_time": "2023-10-04T10:57:42.317Z"
   },
   {
    "duration": 22,
    "start_time": "2023-10-04T10:57:42.350Z"
   },
   {
    "duration": 28,
    "start_time": "2023-10-04T10:57:42.374Z"
   },
   {
    "duration": 12,
    "start_time": "2023-10-04T10:57:42.404Z"
   },
   {
    "duration": 56,
    "start_time": "2024-01-10T18:30:38.491Z"
   },
   {
    "duration": 1106,
    "start_time": "2024-01-10T18:30:52.593Z"
   },
   {
    "duration": 188,
    "start_time": "2024-01-10T18:30:53.700Z"
   },
   {
    "duration": 12,
    "start_time": "2024-01-10T18:30:53.889Z"
   },
   {
    "duration": 10,
    "start_time": "2024-01-10T18:30:53.903Z"
   },
   {
    "duration": 8,
    "start_time": "2024-01-10T18:30:53.914Z"
   },
   {
    "duration": 12,
    "start_time": "2024-01-10T18:30:53.924Z"
   },
   {
    "duration": 7,
    "start_time": "2024-01-10T18:30:53.937Z"
   },
   {
    "duration": 13,
    "start_time": "2024-01-10T18:30:53.945Z"
   },
   {
    "duration": 21,
    "start_time": "2024-01-10T18:30:53.959Z"
   },
   {
    "duration": 11,
    "start_time": "2024-01-10T18:30:53.984Z"
   },
   {
    "duration": 6,
    "start_time": "2024-01-10T18:30:53.996Z"
   },
   {
    "duration": 39,
    "start_time": "2024-01-10T18:30:54.004Z"
   },
   {
    "duration": 6,
    "start_time": "2024-01-10T18:30:54.045Z"
   },
   {
    "duration": 6,
    "start_time": "2024-01-10T18:30:54.053Z"
   },
   {
    "duration": 8,
    "start_time": "2024-01-10T18:30:54.061Z"
   },
   {
    "duration": 8,
    "start_time": "2024-01-10T18:30:54.071Z"
   },
   {
    "duration": 5,
    "start_time": "2024-01-10T18:30:54.081Z"
   },
   {
    "duration": 226,
    "start_time": "2024-01-10T18:30:54.088Z"
   },
   {
    "duration": 149,
    "start_time": "2024-01-10T18:30:54.315Z"
   },
   {
    "duration": 292,
    "start_time": "2024-01-10T18:30:54.466Z"
   },
   {
    "duration": 147,
    "start_time": "2024-01-10T18:30:54.759Z"
   },
   {
    "duration": 320,
    "start_time": "2024-01-10T18:30:54.907Z"
   },
   {
    "duration": 309,
    "start_time": "2024-01-10T18:30:55.229Z"
   },
   {
    "duration": 33,
    "start_time": "2024-01-10T18:30:55.542Z"
   },
   {
    "duration": 11,
    "start_time": "2024-01-10T18:30:55.577Z"
   },
   {
    "duration": 11,
    "start_time": "2024-01-10T18:30:55.589Z"
   },
   {
    "duration": 434,
    "start_time": "2024-01-10T18:30:55.602Z"
   },
   {
    "duration": 301,
    "start_time": "2024-01-10T18:30:56.040Z"
   },
   {
    "duration": 315,
    "start_time": "2024-01-10T18:30:56.343Z"
   },
   {
    "duration": 326,
    "start_time": "2024-01-10T18:30:56.660Z"
   },
   {
    "duration": 28,
    "start_time": "2024-01-10T18:30:56.987Z"
   },
   {
    "duration": 3307,
    "start_time": "2024-01-10T18:30:57.016Z"
   },
   {
    "duration": 19,
    "start_time": "2024-01-10T18:31:00.324Z"
   },
   {
    "duration": 114,
    "start_time": "2024-01-10T18:31:00.345Z"
   },
   {
    "duration": 52,
    "start_time": "2024-01-10T18:31:00.461Z"
   },
   {
    "duration": 71,
    "start_time": "2024-01-10T18:31:00.514Z"
   }
  ],
  "kernelspec": {
   "display_name": "Python 3 (ipykernel)",
   "language": "python",
   "name": "python3"
  },
  "language_info": {
   "codemirror_mode": {
    "name": "ipython",
    "version": 3
   },
   "file_extension": ".py",
   "mimetype": "text/x-python",
   "name": "python",
   "nbconvert_exporter": "python",
   "pygments_lexer": "ipython3",
   "version": "3.10.9"
  },
  "toc": {
   "base_numbering": 1,
   "nav_menu": {
    "height": "821.569px",
    "width": "482.588px"
   },
   "number_sections": true,
   "sideBar": true,
   "skip_h1_title": true,
   "title_cell": "Table of Contents",
   "title_sidebar": "Contents",
   "toc_cell": false,
   "toc_position": {},
   "toc_section_display": true,
   "toc_window_display": false
  }
 },
 "nbformat": 4,
 "nbformat_minor": 5
}
